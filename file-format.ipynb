{
 "cells": [
  {
   "cell_type": "markdown",
   "id": "8013c43b",
   "metadata": {},
   "source": [
    "# for changing .bz2 (in row format) to col format"
   ]
  },
  {
   "cell_type": "code",
   "execution_count": 1,
   "id": "b8bd8465",
   "metadata": {},
   "outputs": [],
   "source": [
    "import pandas as pd\n",
    "import numpy as np\n",
    "import bz2"
   ]
  },
  {
   "cell_type": "code",
   "execution_count": 4,
   "id": "f5887cb8",
   "metadata": {},
   "outputs": [],
   "source": [
    "df = pd.read_csv('data/real-sim.bz2', compression='bz2', header=None, sep=',', quotechar='\"') # 20958 features"
   ]
  },
  {
   "cell_type": "code",
   "execution_count": 5,
   "id": "2af3e7b5",
   "metadata": {},
   "outputs": [
    {
     "data": {
      "text/html": [
       "<div>\n",
       "<style scoped>\n",
       "    .dataframe tbody tr th:only-of-type {\n",
       "        vertical-align: middle;\n",
       "    }\n",
       "\n",
       "    .dataframe tbody tr th {\n",
       "        vertical-align: top;\n",
       "    }\n",
       "\n",
       "    .dataframe thead th {\n",
       "        text-align: right;\n",
       "    }\n",
       "</style>\n",
       "<table border=\"1\" class=\"dataframe\">\n",
       "  <thead>\n",
       "    <tr style=\"text-align: right;\">\n",
       "      <th></th>\n",
       "      <th>0</th>\n",
       "    </tr>\n",
       "  </thead>\n",
       "  <tbody>\n",
       "    <tr>\n",
       "      <th>0</th>\n",
       "      <td>1 957:0.5162621139261989 3713:0.50478811279483...</td>\n",
       "    </tr>\n",
       "    <tr>\n",
       "      <th>1</th>\n",
       "      <td>1 60:0.1268484049473893 76:0.1312390760167834 ...</td>\n",
       "    </tr>\n",
       "    <tr>\n",
       "      <th>2</th>\n",
       "      <td>1 60:0.3046276827544872 148:0.1870145280449209...</td>\n",
       "    </tr>\n",
       "    <tr>\n",
       "      <th>3</th>\n",
       "      <td>1 130:0.03722415715765207 370:0.45297469922461...</td>\n",
       "    </tr>\n",
       "    <tr>\n",
       "      <th>4</th>\n",
       "      <td>1 130:0.08474200311834026 148:0.13987013821176...</td>\n",
       "    </tr>\n",
       "  </tbody>\n",
       "</table>\n",
       "</div>"
      ],
      "text/plain": [
       "                                                   0\n",
       "0  1 957:0.5162621139261989 3713:0.50478811279483...\n",
       "1  1 60:0.1268484049473893 76:0.1312390760167834 ...\n",
       "2  1 60:0.3046276827544872 148:0.1870145280449209...\n",
       "3  1 130:0.03722415715765207 370:0.45297469922461...\n",
       "4  1 130:0.08474200311834026 148:0.13987013821176..."
      ]
     },
     "execution_count": 5,
     "metadata": {},
     "output_type": "execute_result"
    }
   ],
   "source": [
    "df.head() # row format"
   ]
  },
  {
   "cell_type": "code",
   "execution_count": 66,
   "id": "7f32f279",
   "metadata": {},
   "outputs": [],
   "source": [
    "list_df = list()\n",
    "\n",
    "for i in range(0, 20959): # number of features\n",
    "    list_df.append(\"\")"
   ]
  },
  {
   "cell_type": "code",
   "execution_count": 67,
   "id": "e02fc81a",
   "metadata": {},
   "outputs": [
    {
     "name": "stdout",
     "output_type": "stream",
     "text": [
      "Progress:  0.0  %\n",
      "Progress:  5.555555555555555  %\n",
      "Progress:  11.11111111111111  %\n",
      "Progress:  16.666666666666668  %\n",
      "Progress:  22.22222222222222  %\n",
      "Progress:  27.77777777777778  %\n",
      "Progress:  33.333333333333336  %\n",
      "Progress:  38.888888888888886  %\n",
      "Progress:  44.44444444444444  %\n",
      "Progress:  50.0  %\n",
      "Progress:  55.55555555555556  %\n",
      "Progress:  61.111111111111114  %\n",
      "Progress:  66.66666666666667  %\n",
      "Progress:  72.22222222222223  %\n",
      "Progress:  77.77777777777777  %\n",
      "Progress:  83.33333333333333  %\n",
      "Progress:  88.88888888888889  %\n",
      "Progress:  94.44444444444444  %\n",
      "Progress:  100.0  %\n"
     ]
    }
   ],
   "source": [
    "# slow row format -> column format\n",
    "\n",
    "target_list = list()\n",
    "\n",
    "\n",
    "for i in range(len(df)):\n",
    "    splittedData = df.loc[i].map(lambda x: x.split(\" \"))[0]\n",
    "    \n",
    "    aux = splittedData[1:]\n",
    "    \n",
    "    if i % 4000 == 0:\n",
    "        print(\"Progress: \" , str(i/720) , \" %\")\n",
    "    \n",
    "    \n",
    "    for j in range(len(aux)-1):\n",
    "        splittedRow = aux[j].split(\":\")\n",
    "        \n",
    "        \n",
    "        col = int(splittedRow[0])\n",
    "        val = float(splittedRow[1])\n",
    "        list_df[col] = list_df[col] + \" \" + str(i) + \":\" + str(val)\n",
    "\n",
    "\n",
    "target_df = pd.DataFrame(list_df)"
   ]
  },
  {
   "cell_type": "code",
   "execution_count": 55,
   "id": "975937a3",
   "metadata": {},
   "outputs": [],
   "source": [
    "target_df = pd.DataFrame(list_df)"
   ]
  },
  {
   "cell_type": "code",
   "execution_count": 77,
   "id": "bbf72909",
   "metadata": {},
   "outputs": [
    {
     "data": {
      "text/plain": [
       "'69428:0.02081624672503759'"
      ]
     },
     "execution_count": 77,
     "metadata": {},
     "output_type": "execute_result"
    }
   ],
   "source": [
    "target_df.iloc[1][0].split(\" \")[13939]"
   ]
  },
  {
   "cell_type": "code",
   "execution_count": 68,
   "id": "831acb65",
   "metadata": {},
   "outputs": [],
   "source": [
    "target_df.to_csv(\"data/X.csv\") # saving a column format file"
   ]
  }
 ],
 "metadata": {
  "kernelspec": {
   "display_name": "Python 3 (ipykernel)",
   "language": "python",
   "name": "python3"
  },
  "language_info": {
   "codemirror_mode": {
    "name": "ipython",
    "version": 3
   },
   "file_extension": ".py",
   "mimetype": "text/x-python",
   "name": "python",
   "nbconvert_exporter": "python",
   "pygments_lexer": "ipython3",
   "version": "3.9.7"
  }
 },
 "nbformat": 4,
 "nbformat_minor": 5
}
