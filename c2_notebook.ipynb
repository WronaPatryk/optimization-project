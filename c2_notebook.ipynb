{
 "cells": [
  {
   "cell_type": "markdown",
   "id": "04a9ffa0",
   "metadata": {
    "id": "04a9ffa0"
   },
   "source": [
    "\n",
    "# Implementation of coordinate descent optimization algorithm"
   ]
  },
  {
   "cell_type": "markdown",
   "id": "89ef59e9",
   "metadata": {
    "id": "482dfffb"
   },
   "source": [
    "The implementation is tested on following datasets:\n",
    "\n",
    "- artificially generated data (artificial sparse data)\n",
    "- smoking data\n",
    "- banknote authentication data\n",
    "- wisconsin breast cancer data\n",
    "- haberman data"
   ]
  },
  {
   "cell_type": "markdown",
   "id": "VHzihCsTmpne",
   "metadata": {
    "id": "VHzihCsTmpne"
   },
   "source": [
    "# Solving for artificial Data"
   ]
  },
  {
   "cell_type": "code",
   "execution_count": 34,
   "id": "39c42553",
   "metadata": {},
   "outputs": [],
   "source": [
    "import pandas as pd\n",
    "import numpy as np\n",
    "import bz2\n",
    "from time import time\n",
    "\n",
    "import seaborn as sns"
   ]
  },
  {
   "cell_type": "code",
   "execution_count": 2,
   "id": "3019fda7",
   "metadata": {},
   "outputs": [],
   "source": [
    "from sklearn.model_selection import train_test_split"
   ]
  },
  {
   "cell_type": "code",
   "execution_count": 284,
   "id": "eqespCggm8-z",
   "metadata": {
    "id": "eqespCggm8-z"
   },
   "outputs": [],
   "source": [
    "# New data test\n",
    "f_d = 50\n",
    "d_d = 5000\n",
    "X = np.ones((d_d,f_d))\n",
    "Y = np.zeros(d_d)\n",
    "for i in range(d_d):\n",
    "  if i < d_d/2:\n",
    "    X[i,:f_d-1] = np.random.normal(1, 1, f_d-1)*np.random.choice([0, 1], size=f_d-1, p=[.9, .1])\n",
    "    X[i, f_d-1] = 1\n",
    "    \n",
    "    Y[i] = 1\n",
    "  else:\n",
    "    X[i,:f_d-1] = np.random.normal(-1, 1, f_d-1)*np.random.choice([0, 1], size=f_d-1, p=[.9, .1])\n",
    "    X[i, f_d-1] = 1\n",
    "    Y[i] = -1\n"
   ]
  },
  {
   "cell_type": "code",
   "execution_count": 23,
   "id": "3ae706fd",
   "metadata": {},
   "outputs": [
    {
     "data": {
      "text/plain": [
       "array([1., 1., 1., ..., 1., 1., 1.])"
      ]
     },
     "execution_count": 23,
     "metadata": {},
     "output_type": "execute_result"
    }
   ],
   "source": [
    "# bias term\n",
    "X[:, f_d-1]\n"
   ]
  },
  {
   "cell_type": "code",
   "execution_count": 283,
   "id": "LVp1m1FsSDxh",
   "metadata": {
    "id": "LVp1m1FsSDxh"
   },
   "outputs": [
    {
     "name": "stdout",
     "output_type": "stream",
     "text": [
      "Std is Zero\n"
     ]
    }
   ],
   "source": [
    "# # maybe not ? ;) - not run for now\n",
    "# for i in range(f_d):\n",
    "#   mean = X[:,i].mean()\n",
    "#   std = X[:,i].std()\n",
    "#   if std == 0: #If column of zeros\n",
    "#     std = 1\n",
    "#     print(\"Std is Zero\")\n",
    "#   X[:,i] = (X[:,i] - mean)/std"
   ]
  },
  {
   "cell_type": "code",
   "execution_count": 285,
   "id": "kUikQjpVdLKD",
   "metadata": {
    "colab": {
     "base_uri": "https://localhost:8080/"
    },
    "id": "kUikQjpVdLKD",
    "outputId": "adfaa729-6372-4222-9d34-424bd550bc70"
   },
   "outputs": [],
   "source": [
    "# train test split 80/20%\n",
    "\n",
    "X_train, X_test,Y_train, Y_test = train_test_split(X,Y, random_state=44, train_size= 0.8)"
   ]
  },
  {
   "cell_type": "code",
   "execution_count": 286,
   "id": "7e03f620",
   "metadata": {},
   "outputs": [
    {
     "name": "stdout",
     "output_type": "stream",
     "text": [
      "Time of LinearSVC algorithm per iteration: 0.00010751008987426758 seconds\n",
      "Acc: 0.971\n"
     ]
    }
   ],
   "source": [
    "# svc from library\n",
    "from sklearn.svm import LinearSVC\n",
    "svc = LinearSVC(penalty = \"l1\", loss = \"squared_hinge\", max_iter = 100, C = 5, dual = False) # last 2 params - same as in our algorithm\n",
    "\n",
    "t0 = time()\n",
    "svc.fit(X_train,Y_train)\n",
    "t1 = time()\n",
    "\n",
    "print(\"Time of LinearSVC algorithm per iteration: \" + str((t1-t0)/100  ) + \" seconds\")\n",
    "\n",
    "svc_acc = svc.score(X_test,Y_test)\n",
    "\n",
    "print(\"Acc: \" + str(svc_acc))\n",
    "\n"
   ]
  },
  {
   "cell_type": "code",
   "execution_count": 287,
   "id": "8hdEpohRmpnf",
   "metadata": {
    "colab": {
     "base_uri": "https://localhost:8080/"
    },
    "id": "8hdEpohRmpnf",
    "outputId": "337d3abe-2fc9-4292-a7d8-b4c847c97ee5"
   },
   "outputs": [
    {
     "name": "stdout",
     "output_type": "stream",
     "text": [
      "outer iteration -  0\n",
      "Accuracy  0.828\n",
      "Weights sum:  -3171.7623719351013\n",
      "\n",
      "\n",
      "outer iteration -  10\n",
      "Accuracy  0.941\n",
      "Weights sum:  -3959.1380269003594\n",
      "\n",
      "\n",
      "outer iteration -  20\n",
      "Accuracy  0.948\n",
      "Weights sum:  -3943.040105975417\n",
      "\n",
      "\n",
      "outer iteration -  30\n",
      "Accuracy  0.957\n",
      "Weights sum:  -3896.7724332548282\n",
      "\n",
      "\n",
      "outer iteration -  40\n",
      "Accuracy  0.96\n",
      "Weights sum:  -3835.843240080992\n",
      "\n",
      "\n",
      "outer iteration -  50\n",
      "Accuracy  0.959\n",
      "Weights sum:  -3766.469533019242\n",
      "\n",
      "\n",
      "outer iteration -  60\n",
      "Accuracy  0.96\n",
      "Weights sum:  -3703.084440538113\n",
      "\n",
      "\n",
      "outer iteration -  70\n",
      "Accuracy  0.962\n",
      "Weights sum:  -3637.624883366669\n",
      "\n",
      "\n",
      "outer iteration -  80\n",
      "Accuracy  0.963\n",
      "Weights sum:  -3572.945428924956\n",
      "\n",
      "\n",
      "outer iteration -  90\n",
      "Accuracy  0.964\n",
      "Weights sum:  -3508.605556949892\n",
      "\n",
      "\n"
     ]
    }
   ],
   "source": [
    "# algorithm described in https://jmlr.org/papers/volume9/chang08a/chang08a.pdf\n",
    "\n",
    "\n",
    "n_of_features = X_train.shape[1]\n",
    "n_of_observations = Y_train.shape[0]\n",
    "\n",
    "\n",
    "# saved variables\n",
    "\n",
    "# inner\n",
    "dprim0s = []\n",
    "dbis0s = []\n",
    "ds = []\n",
    "weights_sums = []\n",
    "accs_inner = []\n",
    "almighty_all_weights = []\n",
    "\n",
    "for i in range(n_of_features):\n",
    "    almighty_all_weights.append(list())\n",
    "\n",
    "#outer\n",
    "dprim0s2 = []\n",
    "dbis0s2 = []\n",
    "ds2 = []\n",
    "first_weights = []\n",
    "outer_iteration_times = []\n",
    "accs = []\n",
    "\n",
    "\n",
    "\n",
    "# initial weights\n",
    "\n",
    "#weights = np.ones(shape = (1,n_of_features) ) * 1 # initial weights of predictors\n",
    "weights = np.ones((n_of_features)) * 100\n",
    "\n",
    "# hyperparameters\n",
    "beta = 0.5\n",
    "sigma = 0.01\n",
    "C = 5\n",
    "\n",
    "# outer iterations:\n",
    "for k in range(100):\n",
    "    # inner iterations shuld be as many as the number of features\n",
    "    \n",
    "    t0 = time()\n",
    "    \n",
    "    \n",
    "    first_weights.append(weights[0])\n",
    "    for i in range(n_of_features):\n",
    "        almighty_all_weights[i].append(weights[i])\n",
    "        \n",
    "#         if(i%100==0):\n",
    "#           print(\"feature \" , i)\n",
    "        shuffle = np.random.choice(n_of_observations, n_of_observations, replace = False) # shuffling recommended by authors\n",
    "        col = X_train[:,i] #index2Col(X, i)\n",
    "        \n",
    "        # reorder randomly column of X and target (Y):\n",
    "        col_ = col[shuffle]\n",
    "        Y_ = Y_train[shuffle] #np.array(Y.iloc[shuffle])\n",
    "        X_ = X_train[shuffle,:]\n",
    "        \n",
    "        # solving the sub-problem and update weight_i\n",
    "        \n",
    "        ### calculating Newton direction d\n",
    "        \n",
    "        D_prim_0 = 0\n",
    "        \n",
    "        sum_of_squares_of_column = 0\n",
    "        \n",
    "        #----- calculating D'  for z = 0 , in the article: equation (9)\n",
    "        for j in range(n_of_observations): \n",
    "            #----- b_j defined in thr article, part of D' calculations\n",
    "            b_j = max(Y_[j]*float(np.dot(weights,X_[j,:])),0)\n",
    "            #print(float(np.dot(weights,index2Row(df,j))),b_j)\n",
    "            if b_j > 0.0: #----- indicator defined in the article\n",
    "                D_prim_0 += Y_[j]*col_[j]*b_j\n",
    "                sum_of_squares_of_column += col_[j]**2\n",
    "            \n",
    "            \n",
    "        D_prim_0 *= (-2*C)\n",
    "\n",
    "        #D_prim_0 += weights[0,i]\n",
    "        #D_prim_0 += weights[i]\n",
    "\n",
    "\n",
    "        #----- calculating D''  for z = 0 , in the article: equation (10)\n",
    "        D_bis_0 = 1 + 2*C*sum_of_squares_of_column\n",
    "\n",
    "        #-----  equation (13) in the article\n",
    "        d = -D_prim_0/D_bis_0 \n",
    "        ### compute lambda = max{1, beta, beta^2, beta^3, ...}\n",
    "        \n",
    "        # we do this to ensure sufficient convergence condition & to make calculations quicker\n",
    "        # Theorem 1 ( from article) indicated that lambda_ (14) fulfilling (15) \n",
    "        \n",
    "        H_i = 1 + 2*C*np.dot(col_.T,col_)\n",
    "        lambda_ = D_bis_0 /((H_i/2)+sigma)\n",
    "        \n",
    "        lambd = 1\n",
    "        while lambd > lambda_:\n",
    "            lambd *= beta\n",
    "            \n",
    "\n",
    "        ds.append(d)\n",
    "        dprim0s.append(D_prim_0)\n",
    "        dbis0s.append(D_bis_0)\n",
    "        weights_sums.append(weights.sum())\n",
    "        \n",
    "        \n",
    "        acc = 0.0\n",
    "        for l in range(Y_test.shape[0]):\n",
    "          if np.dot(weights,X_test[l,:])*Y_test[l] < 0:\n",
    "            acc += 1\n",
    "        accs_inner.append(acc/Y_test.shape[0])\n",
    "        \n",
    "        \n",
    "        \n",
    "        \n",
    "        \n",
    "        # update weights\n",
    "        weights[i] -= lambd*d\n",
    "        \n",
    "    ds2.append(d)\n",
    "    dprim0s2.append(D_prim_0)\n",
    "    dbis0s2.append(D_bis_0)\n",
    "    outer_iteration_times.append(time() - t0)\n",
    "        \n",
    "        \n",
    "    \n",
    "    if k % 10 == 0:\n",
    "#     if True:\n",
    "        print(\"outer iteration - \", k)\n",
    "        acc = 0.0\n",
    "        for i in range(Y_test.shape[0]):\n",
    "          if np.dot(weights,X_test[i,:])*Y_test[i] < 0:\n",
    "            acc += 1\n",
    "        print(\"Accuracy \",acc/Y_test.shape[0])\n",
    "        print(\"Weights sum: \",weights.sum())\n",
    "        print(\"\\n\")\n",
    "        accs.append(acc/Y_test.shape[0])\n"
   ]
  },
  {
   "cell_type": "code",
   "execution_count": 288,
   "id": "bb912531",
   "metadata": {},
   "outputs": [
    {
     "name": "stdout",
     "output_type": "stream",
     "text": [
      "MAX ACCURACY ON TEST DATASET: 0.965\n"
     ]
    }
   ],
   "source": [
    "print(\"MAX ACCURACY ON TEST DATASET: \" + str(np.max(accs_inner)))\n"
   ]
  },
  {
   "cell_type": "code",
   "execution_count": 289,
   "id": "9d9666a4",
   "metadata": {},
   "outputs": [
    {
     "name": "stdout",
     "output_type": "stream",
     "text": [
      "AVERAGE TIME PER OUTER ITERATION: 1.76045 seconds\n"
     ]
    }
   ],
   "source": [
    "print(\"AVERAGE TIME PER OUTER ITERATION: \" + str(round(np.mean(outer_iteration_times), 5)) + \" seconds\")\n"
   ]
  },
  {
   "cell_type": "code",
   "execution_count": 290,
   "id": "e3b41dfa",
   "metadata": {},
   "outputs": [
    {
     "data": {
      "text/plain": [
       "Text(0, 0.5, \"d's value\")"
      ]
     },
     "execution_count": 290,
     "metadata": {},
     "output_type": "execute_result"
    },
    {
     "data": {
      "image/png": "[encoded data removed]",
      "text/plain": [
       "<Figure size 432x288 with 1 Axes>"
      ]
     },
     "metadata": {
      "needs_background": "light"
     },
     "output_type": "display_data"
    }
   ],
   "source": [
    "ax = sns.lineplot(x = inn_it[0:100], y = ds2[0:100])\n",
    "ax.set_title(\"Change of Newton's direction d of last variable in time\")\n",
    "ax.set_xlabel(\"Outer iteration\")\n",
    "ax.set_ylabel(\"d's value\")"
   ]
  },
  {
   "cell_type": "code",
   "execution_count": 291,
   "id": "UHroda-DUAjb",
   "metadata": {
    "colab": {
     "base_uri": "https://localhost:8080/"
    },
    "id": "UHroda-DUAjb",
    "outputId": "7638959a-d63d-47e7-c918-794e86b7033e"
   },
   "outputs": [
    {
     "data": {
      "text/plain": [
       "Text(0, 0.5, \"D''(0) value\")"
      ]
     },
     "execution_count": 291,
     "metadata": {},
     "output_type": "execute_result"
    },
    {
     "data": {
      "image/png": "[encoded data removed]",
      "text/plain": [
       "<Figure size 432x288 with 1 Axes>"
      ]
     },
     "metadata": {
      "needs_background": "light"
     },
     "output_type": "display_data"
    }
   ],
   "source": [
    "ax = sns.lineplot(x = inn_it[0:100], y = dprim0s2[0:100])\n",
    "ax.set_title(\"Change of D''(0) of last variable in time\")\n",
    "ax.set_xlabel(\"Outer iteration\")\n",
    "ax.set_ylabel(\"D''(0) value\")"
   ]
  },
  {
   "cell_type": "code",
   "execution_count": 295,
   "id": "K-dpq00DUQpa",
   "metadata": {
    "colab": {
     "base_uri": "https://localhost:8080/"
    },
    "id": "K-dpq00DUQpa",
    "outputId": "26aa5f21-3609-4a6f-ac0a-e5bf41fc893f"
   },
   "outputs": [
    {
     "data": {
      "text/plain": [
       "Text(0, 0.5, \"Weights' sum\")"
      ]
     },
     "execution_count": 295,
     "metadata": {},
     "output_type": "execute_result"
    },
    {
     "data": {
      "image/png": "[encoded data removed]",
      "text/plain": [
       "<Figure size 432x288 with 1 Axes>"
      ]
     },
     "metadata": {
      "needs_background": "light"
     },
     "output_type": "display_data"
    }
   ],
   "source": [
    "ax = sns.lineplot(x = inn_it[0:600], y = weights_sums[0:600])\n",
    "ax.set_title(\"Change of all weights' sum in time\")\n",
    "ax.set_xlabel(\"Inner iteration\")\n",
    "ax.set_ylabel(\"Weights' sum\")"
   ]
  },
  {
   "cell_type": "code",
   "execution_count": 296,
   "id": "288db0f0",
   "metadata": {},
   "outputs": [
    {
     "name": "stdout",
     "output_type": "stream",
     "text": [
      "LinearSVC Accuracy ( for comparison): 0.971\n"
     ]
    },
    {
     "data": {
      "image/png": "[encoded data removed]",
      "text/plain": [
       "<Figure size 432x288 with 1 Axes>"
      ]
     },
     "metadata": {
      "needs_background": "light"
     },
     "output_type": "display_data"
    }
   ],
   "source": [
    "ax = sns.lineplot(x = inn_it[0:600], y = accs_inner[0:600])\n",
    "ax.set_title(\"Change of accuracy on test dataset in time\")\n",
    "ax.set_xlabel(\"Inner iteration\")\n",
    "ax.set_ylabel(\"Accuracy\")\n",
    "\n",
    "print(\"LinearSVC Accuracy ( for comparison): \" + str(svc_acc))"
   ]
  },
  {
   "cell_type": "code",
   "execution_count": 302,
   "id": "2fa8f505",
   "metadata": {},
   "outputs": [
    {
     "data": {
      "image/png": "[encoded data removed]",
      "text/plain": [
       "<Figure size 432x288 with 1 Axes>"
      ]
     },
     "metadata": {
      "needs_background": "light"
     },
     "output_type": "display_data"
    }
   ],
   "source": [
    "ax = sns.lineplot(x = inn_it[0:100], y = first_weights[0:100])\n",
    "ax.set_title(\"Change of first 10 features' weights in time\")\n",
    "ax.set_xlabel(\"Outer iteration\")\n",
    "ax.set_ylabel(\"Weights' values\")\n",
    "\n",
    "\n",
    "for i in range(1, 10):\n",
    "    sns.lineplot(x = inn_it[0:100], y = almighty_all_weights[i][0:100])"
   ]
  },
  {
   "cell_type": "markdown",
   "id": "EQu7Yt7sYeJ0",
   "metadata": {
    "id": "EQu7Yt7sYeJ0"
   },
   "source": [
    "# 0. Smoking data"
   ]
  },
  {
   "cell_type": "code",
   "execution_count": 70,
   "id": "a7b8be83",
   "metadata": {},
   "outputs": [
    {
     "name": "stdout",
     "output_type": "stream",
     "text": [
      "real-sim.bz2\n",
      "real-sim-col.csv\n",
      "smoking.csv\n",
      "X.csv\n",
      "Y.csv\n"
     ]
    }
   ],
   "source": [
    "!ls data"
   ]
  },
  {
   "cell_type": "code",
   "execution_count": 247,
   "id": "fbb0a946",
   "metadata": {},
   "outputs": [],
   "source": [
    " # https://www.kaggle.com/datasets/kukuroo3/body-signal-of-smoking\n",
    "\n",
    "data = pd.read_csv('data/smoking.csv')"
   ]
  },
  {
   "cell_type": "code",
   "execution_count": 248,
   "id": "kEnyXyWVmEgQ",
   "metadata": {
    "colab": {
     "base_uri": "https://localhost:8080/"
    },
    "id": "kEnyXyWVmEgQ",
    "outputId": "0e2a006f-8063-4c53-b4a5-1a82ae71bb98"
   },
   "outputs": [
    {
     "name": "stderr",
     "output_type": "stream",
     "text": [
      "C:\\Users\\Patryk\\AppData\\Local\\Temp/ipykernel_14592/223503117.py:2: SettingWithCopyWarning: \n",
      "A value is trying to be set on a copy of a slice from a DataFrame\n",
      "\n",
      "See the caveats in the documentation: https://pandas.pydata.org/pandas-docs/stable/user_guide/indexing.html#returning-a-view-versus-a-copy\n",
      "  Y[Y == 0.0] = -1\n"
     ]
    }
   ],
   "source": [
    "Y = data['smoking']\n",
    "Y[Y == 0.0] = -1"
   ]
  },
  {
   "cell_type": "code",
   "execution_count": 249,
   "id": "PuZ-NmTGmI8s",
   "metadata": {
    "id": "PuZ-NmTGmI8s"
   },
   "outputs": [],
   "source": [
    "data = data.iloc[0:-2,0:-1]"
   ]
  },
  {
   "cell_type": "code",
   "execution_count": 275,
   "id": "mKMMqbXvr1yH",
   "metadata": {
    "colab": {
     "base_uri": "https://localhost:8080/",
     "height": 110
    },
    "id": "mKMMqbXvr1yH",
    "outputId": "16c4618e-e197-4cfe-b927-a9bcd15f80f2"
   },
   "outputs": [
    {
     "data": {
      "text/plain": [
       "array(['Y'], dtype=object)"
      ]
     },
     "execution_count": 275,
     "metadata": {},
     "output_type": "execute_result"
    }
   ],
   "source": [
    "np.unique(data['oral'])"
   ]
  },
  {
   "cell_type": "code",
   "execution_count": 250,
   "id": "JqpqrbQRoX9y",
   "metadata": {
    "id": "JqpqrbQRoX9y"
   },
   "outputs": [],
   "source": [
    "data.loc[data['gender'] == 'M', 'gender'] = 1\n",
    "data.loc[data['gender'] == 'F', 'gender'] = 0\n",
    "\n",
    "data.loc[data['tartar'] == 'Y', 'tartar'] = 1\n",
    "data.loc[data['tartar'] == 'N', 'tartar'] = 0"
   ]
  },
  {
   "cell_type": "code",
   "execution_count": 251,
   "id": "bmLAkAc3qkAW",
   "metadata": {
    "id": "bmLAkAc3qkAW"
   },
   "outputs": [],
   "source": [
    "data = data.drop('oral', axis=1)"
   ]
  },
  {
   "cell_type": "code",
   "execution_count": 278,
   "id": "lKrdMTFgr_9C",
   "metadata": {
    "colab": {
     "base_uri": "https://localhost:8080/",
     "height": 485
    },
    "id": "lKrdMTFgr_9C",
    "outputId": "872e9e59-0470-49eb-ec35-3bd5e72f158f"
   },
   "outputs": [
    {
     "data": {
      "text/html": [
       "<div>\n",
       "<style scoped>\n",
       "    .dataframe tbody tr th:only-of-type {\n",
       "        vertical-align: middle;\n",
       "    }\n",
       "\n",
       "    .dataframe tbody tr th {\n",
       "        vertical-align: top;\n",
       "    }\n",
       "\n",
       "    .dataframe thead th {\n",
       "        text-align: right;\n",
       "    }\n",
       "</style>\n",
       "<table border=\"1\" class=\"dataframe\">\n",
       "  <thead>\n",
       "    <tr style=\"text-align: right;\">\n",
       "      <th></th>\n",
       "      <th>ID</th>\n",
       "      <th>gender</th>\n",
       "      <th>age</th>\n",
       "      <th>height(cm)</th>\n",
       "      <th>weight(kg)</th>\n",
       "      <th>waist(cm)</th>\n",
       "      <th>eyesight(left)</th>\n",
       "      <th>eyesight(right)</th>\n",
       "      <th>hearing(left)</th>\n",
       "      <th>hearing(right)</th>\n",
       "      <th>...</th>\n",
       "      <th>HDL</th>\n",
       "      <th>LDL</th>\n",
       "      <th>hemoglobin</th>\n",
       "      <th>Urine protein</th>\n",
       "      <th>serum creatinine</th>\n",
       "      <th>AST</th>\n",
       "      <th>ALT</th>\n",
       "      <th>Gtp</th>\n",
       "      <th>dental caries</th>\n",
       "      <th>tartar</th>\n",
       "    </tr>\n",
       "  </thead>\n",
       "  <tbody>\n",
       "    <tr>\n",
       "      <th>0</th>\n",
       "      <td>0</td>\n",
       "      <td>0</td>\n",
       "      <td>40</td>\n",
       "      <td>155</td>\n",
       "      <td>60</td>\n",
       "      <td>81.3</td>\n",
       "      <td>1.2</td>\n",
       "      <td>1.0</td>\n",
       "      <td>1.0</td>\n",
       "      <td>1.0</td>\n",
       "      <td>...</td>\n",
       "      <td>73.0</td>\n",
       "      <td>126.0</td>\n",
       "      <td>12.9</td>\n",
       "      <td>1.0</td>\n",
       "      <td>0.7</td>\n",
       "      <td>18.0</td>\n",
       "      <td>19.0</td>\n",
       "      <td>27.0</td>\n",
       "      <td>0</td>\n",
       "      <td>1</td>\n",
       "    </tr>\n",
       "    <tr>\n",
       "      <th>1</th>\n",
       "      <td>1</td>\n",
       "      <td>0</td>\n",
       "      <td>40</td>\n",
       "      <td>160</td>\n",
       "      <td>60</td>\n",
       "      <td>81.0</td>\n",
       "      <td>0.8</td>\n",
       "      <td>0.6</td>\n",
       "      <td>1.0</td>\n",
       "      <td>1.0</td>\n",
       "      <td>...</td>\n",
       "      <td>42.0</td>\n",
       "      <td>127.0</td>\n",
       "      <td>12.7</td>\n",
       "      <td>1.0</td>\n",
       "      <td>0.6</td>\n",
       "      <td>22.0</td>\n",
       "      <td>19.0</td>\n",
       "      <td>18.0</td>\n",
       "      <td>0</td>\n",
       "      <td>1</td>\n",
       "    </tr>\n",
       "    <tr>\n",
       "      <th>2</th>\n",
       "      <td>2</td>\n",
       "      <td>1</td>\n",
       "      <td>55</td>\n",
       "      <td>170</td>\n",
       "      <td>60</td>\n",
       "      <td>80.0</td>\n",
       "      <td>0.8</td>\n",
       "      <td>0.8</td>\n",
       "      <td>1.0</td>\n",
       "      <td>1.0</td>\n",
       "      <td>...</td>\n",
       "      <td>55.0</td>\n",
       "      <td>151.0</td>\n",
       "      <td>15.8</td>\n",
       "      <td>1.0</td>\n",
       "      <td>1.0</td>\n",
       "      <td>21.0</td>\n",
       "      <td>16.0</td>\n",
       "      <td>22.0</td>\n",
       "      <td>0</td>\n",
       "      <td>0</td>\n",
       "    </tr>\n",
       "    <tr>\n",
       "      <th>3</th>\n",
       "      <td>3</td>\n",
       "      <td>1</td>\n",
       "      <td>40</td>\n",
       "      <td>165</td>\n",
       "      <td>70</td>\n",
       "      <td>88.0</td>\n",
       "      <td>1.5</td>\n",
       "      <td>1.5</td>\n",
       "      <td>1.0</td>\n",
       "      <td>1.0</td>\n",
       "      <td>...</td>\n",
       "      <td>45.0</td>\n",
       "      <td>226.0</td>\n",
       "      <td>14.7</td>\n",
       "      <td>1.0</td>\n",
       "      <td>1.0</td>\n",
       "      <td>19.0</td>\n",
       "      <td>26.0</td>\n",
       "      <td>18.0</td>\n",
       "      <td>0</td>\n",
       "      <td>1</td>\n",
       "    </tr>\n",
       "    <tr>\n",
       "      <th>4</th>\n",
       "      <td>4</td>\n",
       "      <td>0</td>\n",
       "      <td>40</td>\n",
       "      <td>155</td>\n",
       "      <td>60</td>\n",
       "      <td>86.0</td>\n",
       "      <td>1.0</td>\n",
       "      <td>1.0</td>\n",
       "      <td>1.0</td>\n",
       "      <td>1.0</td>\n",
       "      <td>...</td>\n",
       "      <td>62.0</td>\n",
       "      <td>107.0</td>\n",
       "      <td>12.5</td>\n",
       "      <td>1.0</td>\n",
       "      <td>0.6</td>\n",
       "      <td>16.0</td>\n",
       "      <td>14.0</td>\n",
       "      <td>22.0</td>\n",
       "      <td>0</td>\n",
       "      <td>0</td>\n",
       "    </tr>\n",
       "    <tr>\n",
       "      <th>...</th>\n",
       "      <td>...</td>\n",
       "      <td>...</td>\n",
       "      <td>...</td>\n",
       "      <td>...</td>\n",
       "      <td>...</td>\n",
       "      <td>...</td>\n",
       "      <td>...</td>\n",
       "      <td>...</td>\n",
       "      <td>...</td>\n",
       "      <td>...</td>\n",
       "      <td>...</td>\n",
       "      <td>...</td>\n",
       "      <td>...</td>\n",
       "      <td>...</td>\n",
       "      <td>...</td>\n",
       "      <td>...</td>\n",
       "      <td>...</td>\n",
       "      <td>...</td>\n",
       "      <td>...</td>\n",
       "      <td>...</td>\n",
       "      <td>...</td>\n",
       "    </tr>\n",
       "    <tr>\n",
       "      <th>55685</th>\n",
       "      <td>55671</td>\n",
       "      <td>1</td>\n",
       "      <td>40</td>\n",
       "      <td>170</td>\n",
       "      <td>80</td>\n",
       "      <td>90.5</td>\n",
       "      <td>1.2</td>\n",
       "      <td>1.5</td>\n",
       "      <td>1.0</td>\n",
       "      <td>1.0</td>\n",
       "      <td>...</td>\n",
       "      <td>57.0</td>\n",
       "      <td>135.0</td>\n",
       "      <td>14.8</td>\n",
       "      <td>1.0</td>\n",
       "      <td>0.9</td>\n",
       "      <td>16.0</td>\n",
       "      <td>28.0</td>\n",
       "      <td>68.0</td>\n",
       "      <td>0</td>\n",
       "      <td>1</td>\n",
       "    </tr>\n",
       "    <tr>\n",
       "      <th>55686</th>\n",
       "      <td>55673</td>\n",
       "      <td>0</td>\n",
       "      <td>60</td>\n",
       "      <td>150</td>\n",
       "      <td>50</td>\n",
       "      <td>75.0</td>\n",
       "      <td>1.0</td>\n",
       "      <td>1.2</td>\n",
       "      <td>1.0</td>\n",
       "      <td>1.0</td>\n",
       "      <td>...</td>\n",
       "      <td>52.0</td>\n",
       "      <td>116.0</td>\n",
       "      <td>12.6</td>\n",
       "      <td>1.0</td>\n",
       "      <td>0.8</td>\n",
       "      <td>26.0</td>\n",
       "      <td>21.0</td>\n",
       "      <td>14.0</td>\n",
       "      <td>0</td>\n",
       "      <td>1</td>\n",
       "    </tr>\n",
       "    <tr>\n",
       "      <th>55687</th>\n",
       "      <td>55676</td>\n",
       "      <td>0</td>\n",
       "      <td>40</td>\n",
       "      <td>170</td>\n",
       "      <td>65</td>\n",
       "      <td>75.0</td>\n",
       "      <td>0.9</td>\n",
       "      <td>0.9</td>\n",
       "      <td>1.0</td>\n",
       "      <td>1.0</td>\n",
       "      <td>...</td>\n",
       "      <td>75.0</td>\n",
       "      <td>118.0</td>\n",
       "      <td>12.3</td>\n",
       "      <td>1.0</td>\n",
       "      <td>0.6</td>\n",
       "      <td>14.0</td>\n",
       "      <td>7.0</td>\n",
       "      <td>10.0</td>\n",
       "      <td>1</td>\n",
       "      <td>1</td>\n",
       "    </tr>\n",
       "    <tr>\n",
       "      <th>55688</th>\n",
       "      <td>55681</td>\n",
       "      <td>0</td>\n",
       "      <td>45</td>\n",
       "      <td>160</td>\n",
       "      <td>50</td>\n",
       "      <td>70.0</td>\n",
       "      <td>1.2</td>\n",
       "      <td>1.2</td>\n",
       "      <td>1.0</td>\n",
       "      <td>1.0</td>\n",
       "      <td>...</td>\n",
       "      <td>73.0</td>\n",
       "      <td>79.0</td>\n",
       "      <td>14.0</td>\n",
       "      <td>1.0</td>\n",
       "      <td>0.9</td>\n",
       "      <td>20.0</td>\n",
       "      <td>12.0</td>\n",
       "      <td>14.0</td>\n",
       "      <td>0</td>\n",
       "      <td>1</td>\n",
       "    </tr>\n",
       "    <tr>\n",
       "      <th>55689</th>\n",
       "      <td>55683</td>\n",
       "      <td>0</td>\n",
       "      <td>55</td>\n",
       "      <td>160</td>\n",
       "      <td>50</td>\n",
       "      <td>68.5</td>\n",
       "      <td>1.0</td>\n",
       "      <td>1.2</td>\n",
       "      <td>1.0</td>\n",
       "      <td>1.0</td>\n",
       "      <td>...</td>\n",
       "      <td>79.0</td>\n",
       "      <td>63.0</td>\n",
       "      <td>12.4</td>\n",
       "      <td>1.0</td>\n",
       "      <td>0.5</td>\n",
       "      <td>17.0</td>\n",
       "      <td>11.0</td>\n",
       "      <td>12.0</td>\n",
       "      <td>0</td>\n",
       "      <td>0</td>\n",
       "    </tr>\n",
       "  </tbody>\n",
       "</table>\n",
       "<p>55690 rows × 25 columns</p>\n",
       "</div>"
      ],
      "text/plain": [
       "          ID gender  age  height(cm)  weight(kg)  waist(cm)  eyesight(left)  \\\n",
       "0          0      0   40         155          60       81.3             1.2   \n",
       "1          1      0   40         160          60       81.0             0.8   \n",
       "2          2      1   55         170          60       80.0             0.8   \n",
       "3          3      1   40         165          70       88.0             1.5   \n",
       "4          4      0   40         155          60       86.0             1.0   \n",
       "...      ...    ...  ...         ...         ...        ...             ...   \n",
       "55685  55671      1   40         170          80       90.5             1.2   \n",
       "55686  55673      0   60         150          50       75.0             1.0   \n",
       "55687  55676      0   40         170          65       75.0             0.9   \n",
       "55688  55681      0   45         160          50       70.0             1.2   \n",
       "55689  55683      0   55         160          50       68.5             1.0   \n",
       "\n",
       "       eyesight(right)  hearing(left)  hearing(right)  ...   HDL    LDL  \\\n",
       "0                  1.0            1.0             1.0  ...  73.0  126.0   \n",
       "1                  0.6            1.0             1.0  ...  42.0  127.0   \n",
       "2                  0.8            1.0             1.0  ...  55.0  151.0   \n",
       "3                  1.5            1.0             1.0  ...  45.0  226.0   \n",
       "4                  1.0            1.0             1.0  ...  62.0  107.0   \n",
       "...                ...            ...             ...  ...   ...    ...   \n",
       "55685              1.5            1.0             1.0  ...  57.0  135.0   \n",
       "55686              1.2            1.0             1.0  ...  52.0  116.0   \n",
       "55687              0.9            1.0             1.0  ...  75.0  118.0   \n",
       "55688              1.2            1.0             1.0  ...  73.0   79.0   \n",
       "55689              1.2            1.0             1.0  ...  79.0   63.0   \n",
       "\n",
       "       hemoglobin  Urine protein  serum creatinine   AST   ALT   Gtp  \\\n",
       "0            12.9            1.0               0.7  18.0  19.0  27.0   \n",
       "1            12.7            1.0               0.6  22.0  19.0  18.0   \n",
       "2            15.8            1.0               1.0  21.0  16.0  22.0   \n",
       "3            14.7            1.0               1.0  19.0  26.0  18.0   \n",
       "4            12.5            1.0               0.6  16.0  14.0  22.0   \n",
       "...           ...            ...               ...   ...   ...   ...   \n",
       "55685        14.8            1.0               0.9  16.0  28.0  68.0   \n",
       "55686        12.6            1.0               0.8  26.0  21.0  14.0   \n",
       "55687        12.3            1.0               0.6  14.0   7.0  10.0   \n",
       "55688        14.0            1.0               0.9  20.0  12.0  14.0   \n",
       "55689        12.4            1.0               0.5  17.0  11.0  12.0   \n",
       "\n",
       "       dental caries  tartar  \n",
       "0                  0       1  \n",
       "1                  0       1  \n",
       "2                  0       0  \n",
       "3                  0       1  \n",
       "4                  0       0  \n",
       "...              ...     ...  \n",
       "55685              0       1  \n",
       "55686              0       1  \n",
       "55687              1       1  \n",
       "55688              0       1  \n",
       "55689              0       0  \n",
       "\n",
       "[55690 rows x 25 columns]"
      ]
     },
     "execution_count": 278,
     "metadata": {},
     "output_type": "execute_result"
    }
   ],
   "source": [
    "data"
   ]
  },
  {
   "cell_type": "code",
   "execution_count": 260,
   "id": "XtulnUG3sEEp",
   "metadata": {
    "id": "XtulnUG3sEEp"
   },
   "outputs": [],
   "source": [
    "Y = Y[0:-2]"
   ]
  },
  {
   "cell_type": "code",
   "execution_count": 236,
   "id": "84QJoPqIUuQb",
   "metadata": {
    "colab": {
     "base_uri": "https://localhost:8080/"
    },
    "id": "84QJoPqIUuQb",
    "outputId": "124f9c7a-7231-4760-920e-17b0218f916d"
   },
   "outputs": [
    {
     "data": {
      "text/plain": [
       "0       -1\n",
       "1       -1\n",
       "2        1\n",
       "3       -1\n",
       "4       -1\n",
       "        ..\n",
       "55685   -1\n",
       "55686   -1\n",
       "55687   -1\n",
       "55688   -1\n",
       "55689   -1\n",
       "Name: smoking, Length: 55690, dtype: int64"
      ]
     },
     "execution_count": 236,
     "metadata": {},
     "output_type": "execute_result"
    }
   ],
   "source": [
    "Y"
   ]
  },
  {
   "cell_type": "code",
   "execution_count": 99,
   "id": "xcTW_kLYsIEW",
   "metadata": {
    "colab": {
     "base_uri": "https://localhost:8080/",
     "height": 485
    },
    "id": "xcTW_kLYsIEW",
    "outputId": "d37d63f8-c936-427e-cae0-8a0e71f914f9"
   },
   "outputs": [
    {
     "data": {
      "text/html": [
       "<div>\n",
       "<style scoped>\n",
       "    .dataframe tbody tr th:only-of-type {\n",
       "        vertical-align: middle;\n",
       "    }\n",
       "\n",
       "    .dataframe tbody tr th {\n",
       "        vertical-align: top;\n",
       "    }\n",
       "\n",
       "    .dataframe thead th {\n",
       "        text-align: right;\n",
       "    }\n",
       "</style>\n",
       "<table border=\"1\" class=\"dataframe\">\n",
       "  <thead>\n",
       "    <tr style=\"text-align: right;\">\n",
       "      <th></th>\n",
       "      <th>gender</th>\n",
       "      <th>age</th>\n",
       "      <th>height(cm)</th>\n",
       "      <th>weight(kg)</th>\n",
       "      <th>waist(cm)</th>\n",
       "      <th>eyesight(left)</th>\n",
       "      <th>eyesight(right)</th>\n",
       "      <th>hearing(left)</th>\n",
       "      <th>hearing(right)</th>\n",
       "      <th>systolic</th>\n",
       "      <th>...</th>\n",
       "      <th>HDL</th>\n",
       "      <th>LDL</th>\n",
       "      <th>hemoglobin</th>\n",
       "      <th>Urine protein</th>\n",
       "      <th>serum creatinine</th>\n",
       "      <th>AST</th>\n",
       "      <th>ALT</th>\n",
       "      <th>Gtp</th>\n",
       "      <th>dental caries</th>\n",
       "      <th>tartar</th>\n",
       "    </tr>\n",
       "  </thead>\n",
       "  <tbody>\n",
       "    <tr>\n",
       "      <th>0</th>\n",
       "      <td>0</td>\n",
       "      <td>40</td>\n",
       "      <td>155</td>\n",
       "      <td>60</td>\n",
       "      <td>81.3</td>\n",
       "      <td>1.2</td>\n",
       "      <td>1.0</td>\n",
       "      <td>1.0</td>\n",
       "      <td>1.0</td>\n",
       "      <td>114.0</td>\n",
       "      <td>...</td>\n",
       "      <td>73.0</td>\n",
       "      <td>126.0</td>\n",
       "      <td>12.9</td>\n",
       "      <td>1.0</td>\n",
       "      <td>0.7</td>\n",
       "      <td>18.0</td>\n",
       "      <td>19.0</td>\n",
       "      <td>27.0</td>\n",
       "      <td>0</td>\n",
       "      <td>1</td>\n",
       "    </tr>\n",
       "    <tr>\n",
       "      <th>1</th>\n",
       "      <td>0</td>\n",
       "      <td>40</td>\n",
       "      <td>160</td>\n",
       "      <td>60</td>\n",
       "      <td>81.0</td>\n",
       "      <td>0.8</td>\n",
       "      <td>0.6</td>\n",
       "      <td>1.0</td>\n",
       "      <td>1.0</td>\n",
       "      <td>119.0</td>\n",
       "      <td>...</td>\n",
       "      <td>42.0</td>\n",
       "      <td>127.0</td>\n",
       "      <td>12.7</td>\n",
       "      <td>1.0</td>\n",
       "      <td>0.6</td>\n",
       "      <td>22.0</td>\n",
       "      <td>19.0</td>\n",
       "      <td>18.0</td>\n",
       "      <td>0</td>\n",
       "      <td>1</td>\n",
       "    </tr>\n",
       "    <tr>\n",
       "      <th>2</th>\n",
       "      <td>1</td>\n",
       "      <td>55</td>\n",
       "      <td>170</td>\n",
       "      <td>60</td>\n",
       "      <td>80.0</td>\n",
       "      <td>0.8</td>\n",
       "      <td>0.8</td>\n",
       "      <td>1.0</td>\n",
       "      <td>1.0</td>\n",
       "      <td>138.0</td>\n",
       "      <td>...</td>\n",
       "      <td>55.0</td>\n",
       "      <td>151.0</td>\n",
       "      <td>15.8</td>\n",
       "      <td>1.0</td>\n",
       "      <td>1.0</td>\n",
       "      <td>21.0</td>\n",
       "      <td>16.0</td>\n",
       "      <td>22.0</td>\n",
       "      <td>0</td>\n",
       "      <td>0</td>\n",
       "    </tr>\n",
       "    <tr>\n",
       "      <th>3</th>\n",
       "      <td>1</td>\n",
       "      <td>40</td>\n",
       "      <td>165</td>\n",
       "      <td>70</td>\n",
       "      <td>88.0</td>\n",
       "      <td>1.5</td>\n",
       "      <td>1.5</td>\n",
       "      <td>1.0</td>\n",
       "      <td>1.0</td>\n",
       "      <td>100.0</td>\n",
       "      <td>...</td>\n",
       "      <td>45.0</td>\n",
       "      <td>226.0</td>\n",
       "      <td>14.7</td>\n",
       "      <td>1.0</td>\n",
       "      <td>1.0</td>\n",
       "      <td>19.0</td>\n",
       "      <td>26.0</td>\n",
       "      <td>18.0</td>\n",
       "      <td>0</td>\n",
       "      <td>1</td>\n",
       "    </tr>\n",
       "    <tr>\n",
       "      <th>4</th>\n",
       "      <td>0</td>\n",
       "      <td>40</td>\n",
       "      <td>155</td>\n",
       "      <td>60</td>\n",
       "      <td>86.0</td>\n",
       "      <td>1.0</td>\n",
       "      <td>1.0</td>\n",
       "      <td>1.0</td>\n",
       "      <td>1.0</td>\n",
       "      <td>120.0</td>\n",
       "      <td>...</td>\n",
       "      <td>62.0</td>\n",
       "      <td>107.0</td>\n",
       "      <td>12.5</td>\n",
       "      <td>1.0</td>\n",
       "      <td>0.6</td>\n",
       "      <td>16.0</td>\n",
       "      <td>14.0</td>\n",
       "      <td>22.0</td>\n",
       "      <td>0</td>\n",
       "      <td>0</td>\n",
       "    </tr>\n",
       "    <tr>\n",
       "      <th>...</th>\n",
       "      <td>...</td>\n",
       "      <td>...</td>\n",
       "      <td>...</td>\n",
       "      <td>...</td>\n",
       "      <td>...</td>\n",
       "      <td>...</td>\n",
       "      <td>...</td>\n",
       "      <td>...</td>\n",
       "      <td>...</td>\n",
       "      <td>...</td>\n",
       "      <td>...</td>\n",
       "      <td>...</td>\n",
       "      <td>...</td>\n",
       "      <td>...</td>\n",
       "      <td>...</td>\n",
       "      <td>...</td>\n",
       "      <td>...</td>\n",
       "      <td>...</td>\n",
       "      <td>...</td>\n",
       "      <td>...</td>\n",
       "      <td>...</td>\n",
       "    </tr>\n",
       "    <tr>\n",
       "      <th>55685</th>\n",
       "      <td>1</td>\n",
       "      <td>40</td>\n",
       "      <td>170</td>\n",
       "      <td>80</td>\n",
       "      <td>90.5</td>\n",
       "      <td>1.2</td>\n",
       "      <td>1.5</td>\n",
       "      <td>1.0</td>\n",
       "      <td>1.0</td>\n",
       "      <td>130.0</td>\n",
       "      <td>...</td>\n",
       "      <td>57.0</td>\n",
       "      <td>135.0</td>\n",
       "      <td>14.8</td>\n",
       "      <td>1.0</td>\n",
       "      <td>0.9</td>\n",
       "      <td>16.0</td>\n",
       "      <td>28.0</td>\n",
       "      <td>68.0</td>\n",
       "      <td>0</td>\n",
       "      <td>1</td>\n",
       "    </tr>\n",
       "    <tr>\n",
       "      <th>55686</th>\n",
       "      <td>0</td>\n",
       "      <td>60</td>\n",
       "      <td>150</td>\n",
       "      <td>50</td>\n",
       "      <td>75.0</td>\n",
       "      <td>1.0</td>\n",
       "      <td>1.2</td>\n",
       "      <td>1.0</td>\n",
       "      <td>1.0</td>\n",
       "      <td>102.0</td>\n",
       "      <td>...</td>\n",
       "      <td>52.0</td>\n",
       "      <td>116.0</td>\n",
       "      <td>12.6</td>\n",
       "      <td>1.0</td>\n",
       "      <td>0.8</td>\n",
       "      <td>26.0</td>\n",
       "      <td>21.0</td>\n",
       "      <td>14.0</td>\n",
       "      <td>0</td>\n",
       "      <td>1</td>\n",
       "    </tr>\n",
       "    <tr>\n",
       "      <th>55687</th>\n",
       "      <td>0</td>\n",
       "      <td>40</td>\n",
       "      <td>170</td>\n",
       "      <td>65</td>\n",
       "      <td>75.0</td>\n",
       "      <td>0.9</td>\n",
       "      <td>0.9</td>\n",
       "      <td>1.0</td>\n",
       "      <td>1.0</td>\n",
       "      <td>110.0</td>\n",
       "      <td>...</td>\n",
       "      <td>75.0</td>\n",
       "      <td>118.0</td>\n",
       "      <td>12.3</td>\n",
       "      <td>1.0</td>\n",
       "      <td>0.6</td>\n",
       "      <td>14.0</td>\n",
       "      <td>7.0</td>\n",
       "      <td>10.0</td>\n",
       "      <td>1</td>\n",
       "      <td>1</td>\n",
       "    </tr>\n",
       "    <tr>\n",
       "      <th>55688</th>\n",
       "      <td>0</td>\n",
       "      <td>45</td>\n",
       "      <td>160</td>\n",
       "      <td>50</td>\n",
       "      <td>70.0</td>\n",
       "      <td>1.2</td>\n",
       "      <td>1.2</td>\n",
       "      <td>1.0</td>\n",
       "      <td>1.0</td>\n",
       "      <td>101.0</td>\n",
       "      <td>...</td>\n",
       "      <td>73.0</td>\n",
       "      <td>79.0</td>\n",
       "      <td>14.0</td>\n",
       "      <td>1.0</td>\n",
       "      <td>0.9</td>\n",
       "      <td>20.0</td>\n",
       "      <td>12.0</td>\n",
       "      <td>14.0</td>\n",
       "      <td>0</td>\n",
       "      <td>1</td>\n",
       "    </tr>\n",
       "    <tr>\n",
       "      <th>55689</th>\n",
       "      <td>0</td>\n",
       "      <td>55</td>\n",
       "      <td>160</td>\n",
       "      <td>50</td>\n",
       "      <td>68.5</td>\n",
       "      <td>1.0</td>\n",
       "      <td>1.2</td>\n",
       "      <td>1.0</td>\n",
       "      <td>1.0</td>\n",
       "      <td>117.0</td>\n",
       "      <td>...</td>\n",
       "      <td>79.0</td>\n",
       "      <td>63.0</td>\n",
       "      <td>12.4</td>\n",
       "      <td>1.0</td>\n",
       "      <td>0.5</td>\n",
       "      <td>17.0</td>\n",
       "      <td>11.0</td>\n",
       "      <td>12.0</td>\n",
       "      <td>0</td>\n",
       "      <td>0</td>\n",
       "    </tr>\n",
       "  </tbody>\n",
       "</table>\n",
       "<p>55690 rows × 24 columns</p>\n",
       "</div>"
      ],
      "text/plain": [
       "      gender  age  height(cm)  weight(kg)  waist(cm)  eyesight(left)  \\\n",
       "0          0   40         155          60       81.3             1.2   \n",
       "1          0   40         160          60       81.0             0.8   \n",
       "2          1   55         170          60       80.0             0.8   \n",
       "3          1   40         165          70       88.0             1.5   \n",
       "4          0   40         155          60       86.0             1.0   \n",
       "...      ...  ...         ...         ...        ...             ...   \n",
       "55685      1   40         170          80       90.5             1.2   \n",
       "55686      0   60         150          50       75.0             1.0   \n",
       "55687      0   40         170          65       75.0             0.9   \n",
       "55688      0   45         160          50       70.0             1.2   \n",
       "55689      0   55         160          50       68.5             1.0   \n",
       "\n",
       "       eyesight(right)  hearing(left)  hearing(right)  systolic  ...   HDL  \\\n",
       "0                  1.0            1.0             1.0     114.0  ...  73.0   \n",
       "1                  0.6            1.0             1.0     119.0  ...  42.0   \n",
       "2                  0.8            1.0             1.0     138.0  ...  55.0   \n",
       "3                  1.5            1.0             1.0     100.0  ...  45.0   \n",
       "4                  1.0            1.0             1.0     120.0  ...  62.0   \n",
       "...                ...            ...             ...       ...  ...   ...   \n",
       "55685              1.5            1.0             1.0     130.0  ...  57.0   \n",
       "55686              1.2            1.0             1.0     102.0  ...  52.0   \n",
       "55687              0.9            1.0             1.0     110.0  ...  75.0   \n",
       "55688              1.2            1.0             1.0     101.0  ...  73.0   \n",
       "55689              1.2            1.0             1.0     117.0  ...  79.0   \n",
       "\n",
       "         LDL  hemoglobin  Urine protein  serum creatinine   AST   ALT   Gtp  \\\n",
       "0      126.0        12.9            1.0               0.7  18.0  19.0  27.0   \n",
       "1      127.0        12.7            1.0               0.6  22.0  19.0  18.0   \n",
       "2      151.0        15.8            1.0               1.0  21.0  16.0  22.0   \n",
       "3      226.0        14.7            1.0               1.0  19.0  26.0  18.0   \n",
       "4      107.0        12.5            1.0               0.6  16.0  14.0  22.0   \n",
       "...      ...         ...            ...               ...   ...   ...   ...   \n",
       "55685  135.0        14.8            1.0               0.9  16.0  28.0  68.0   \n",
       "55686  116.0        12.6            1.0               0.8  26.0  21.0  14.0   \n",
       "55687  118.0        12.3            1.0               0.6  14.0   7.0  10.0   \n",
       "55688   79.0        14.0            1.0               0.9  20.0  12.0  14.0   \n",
       "55689   63.0        12.4            1.0               0.5  17.0  11.0  12.0   \n",
       "\n",
       "       dental caries  tartar  \n",
       "0                  0       1  \n",
       "1                  0       1  \n",
       "2                  0       0  \n",
       "3                  0       1  \n",
       "4                  0       0  \n",
       "...              ...     ...  \n",
       "55685              0       1  \n",
       "55686              0       1  \n",
       "55687              1       1  \n",
       "55688              0       1  \n",
       "55689              0       0  \n",
       "\n",
       "[55690 rows x 24 columns]"
      ]
     },
     "execution_count": 99,
     "metadata": {},
     "output_type": "execute_result"
    }
   ],
   "source": [
    "data.iloc[:,1:25]"
   ]
  },
  {
   "cell_type": "code",
   "execution_count": 252,
   "id": "uK7bQKj6ngtu",
   "metadata": {
    "id": "uK7bQKj6ngtu"
   },
   "outputs": [],
   "source": [
    "X = np.asarray(data.iloc[:,1:25])"
   ]
  },
  {
   "cell_type": "code",
   "execution_count": 238,
   "id": "Ni_JTiGmqefP",
   "metadata": {
    "colab": {
     "base_uri": "https://localhost:8080/"
    },
    "id": "Ni_JTiGmqefP",
    "outputId": "24eeb619-2736-4fcd-8e80-b18a2ab9a0ce"
   },
   "outputs": [
    {
     "data": {
      "text/plain": [
       "(55690, 24)"
      ]
     },
     "execution_count": 238,
     "metadata": {},
     "output_type": "execute_result"
    }
   ],
   "source": [
    "X.shape"
   ]
  },
  {
   "cell_type": "code",
   "execution_count": 282,
   "id": "FfAMrvDXUygH",
   "metadata": {
    "colab": {
     "base_uri": "https://localhost:8080/"
    },
    "id": "FfAMrvDXUygH",
    "outputId": "72bb58da-a44d-4163-bbfc-e8ca2bfec2c7"
   },
   "outputs": [
    {
     "data": {
      "text/plain": [
       "0       -1\n",
       "1       -1\n",
       "2        1\n",
       "3       -1\n",
       "4       -1\n",
       "        ..\n",
       "55685   -1\n",
       "55686   -1\n",
       "55687   -1\n",
       "55688   -1\n",
       "55689   -1\n",
       "Name: smoking, Length: 55690, dtype: int64"
      ]
     },
     "execution_count": 282,
     "metadata": {},
     "output_type": "execute_result"
    }
   ],
   "source": [
    "Y"
   ]
  },
  {
   "cell_type": "code",
   "execution_count": 253,
   "id": "LTGdQUgBrV7W",
   "metadata": {
    "id": "LTGdQUgBrV7W"
   },
   "outputs": [
    {
     "name": "stdout",
     "output_type": "stream",
     "text": [
      "0\n",
      "1\n",
      "2\n",
      "3\n",
      "4\n",
      "5\n",
      "6\n",
      "7\n",
      "8\n",
      "9\n",
      "10\n",
      "11\n",
      "12\n",
      "13\n",
      "14\n",
      "15\n",
      "16\n",
      "17\n",
      "18\n",
      "19\n",
      "20\n",
      "21\n",
      "22\n",
      "23\n"
     ]
    }
   ],
   "source": [
    "for i in range(24):\n",
    "  meann = X[:,i].mean()\n",
    "  std = X[:,i].std()\n",
    "  if std == 0: #If column of zeros\n",
    "    std = 1\n",
    "    print(\"Std is Zero\")\n",
    "  X[:,i] = (X[:,i] - meann)/std"
   ]
  },
  {
   "cell_type": "code",
   "execution_count": 254,
   "id": "f74c4151",
   "metadata": {},
   "outputs": [],
   "source": [
    "X = np.concatenate([X, np.ones(shape = (X.shape[0], 1))], axis=1)"
   ]
  },
  {
   "cell_type": "code",
   "execution_count": 258,
   "id": "34f2b6ee",
   "metadata": {},
   "outputs": [
    {
     "data": {
      "text/plain": [
       "(55690, 25)"
      ]
     },
     "execution_count": 258,
     "metadata": {},
     "output_type": "execute_result"
    }
   ],
   "source": [
    "X.shape"
   ]
  },
  {
   "cell_type": "code",
   "execution_count": null,
   "id": "a69ccee1",
   "metadata": {},
   "outputs": [],
   "source": []
  },
  {
   "cell_type": "code",
   "execution_count": 261,
   "id": "42956c90",
   "metadata": {},
   "outputs": [
    {
     "data": {
      "text/plain": [
       "(55690,)"
      ]
     },
     "execution_count": 261,
     "metadata": {},
     "output_type": "execute_result"
    }
   ],
   "source": [
    "Y.shape"
   ]
  },
  {
   "cell_type": "code",
   "execution_count": 256,
   "id": "5013ad7d",
   "metadata": {},
   "outputs": [],
   "source": [
    "X = np.array(X)\n",
    "Y = np.array(Y)"
   ]
  },
  {
   "cell_type": "code",
   "execution_count": null,
   "id": "OUg_7I_RtUya",
   "metadata": {
    "id": "OUg_7I_RtUya"
   },
   "outputs": [],
   "source": [
    "# Y = Y[0:-2]"
   ]
  },
  {
   "cell_type": "code",
   "execution_count": 262,
   "id": "36d7df15",
   "metadata": {},
   "outputs": [],
   "source": [
    "# train test split 80/20%\n",
    "\n",
    "\n",
    "X_train, X_test,Y_train, Y_test = train_test_split(X,Y, random_state=44, train_size= 0.8)\n",
    "\n",
    "\n"
   ]
  },
  {
   "cell_type": "code",
   "execution_count": 266,
   "id": "95cfb00d",
   "metadata": {},
   "outputs": [
    {
     "name": "stdout",
     "output_type": "stream",
     "text": [
      "Time of LinearSVC algorithm per iteration: 0.0027649474143981935 seconds\n",
      "Acc: 0.7438498832824565\n"
     ]
    },
    {
     "name": "stderr",
     "output_type": "stream",
     "text": [
      "C:\\Users\\Patryk\\anaconda3\\lib\\site-packages\\sklearn\\svm\\_base.py:1225: ConvergenceWarning: Liblinear failed to converge, increase the number of iterations.\n",
      "  warnings.warn(\n"
     ]
    }
   ],
   "source": [
    "# svc from library\n",
    "from sklearn.svm import LinearSVC\n",
    "svc = LinearSVC(penalty = \"l1\", loss = \"squared_hinge\", max_iter = 10, C = 5, dual = False) # last 2 params - same as in our algorithm\n",
    "\n",
    "t0 = time()\n",
    "svc.fit(X_train,Y_train)\n",
    "t1 = time()\n",
    "\n",
    "print(\"Time of LinearSVC algorithm per iteration: \" + str((t1-t0)/100  ) + \" seconds\")\n",
    "\n",
    "svc_acc = svc.score(X_test,Y_test)\n",
    "\n",
    "print(\"Acc: \" + str(svc_acc))\n",
    "\n"
   ]
  },
  {
   "cell_type": "code",
   "execution_count": 265,
   "id": "72wON9SwtFZq",
   "metadata": {
    "colab": {
     "base_uri": "https://localhost:8080/"
    },
    "id": "72wON9SwtFZq",
    "outputId": "6f10bbdf-46c0-4601-c0a3-68d2ce0c30a0"
   },
   "outputs": [
    {
     "name": "stdout",
     "output_type": "stream",
     "text": [
      "outer iteration -  0\n",
      "Accuracy  0.6722930508170228\n",
      "Weights sum:  359.8714603158697\n",
      "\n",
      "\n",
      "outer iteration -  10\n",
      "Accuracy  0.6736397917040762\n",
      "Weights sum:  -20.615663733856223\n",
      "\n",
      "\n"
     ]
    },
    {
     "ename": "KeyboardInterrupt",
     "evalue": "",
     "output_type": "error",
     "traceback": [
      "\u001b[1;31m---------------------------------------------------------------------------\u001b[0m",
      "\u001b[1;31mKeyboardInterrupt\u001b[0m                         Traceback (most recent call last)",
      "\u001b[1;32m~\\AppData\\Local\\Temp/ipykernel_14592/501284484.py\u001b[0m in \u001b[0;36m<module>\u001b[1;34m\u001b[0m\n\u001b[0;32m    110\u001b[0m         \u001b[0macc\u001b[0m \u001b[1;33m=\u001b[0m \u001b[1;36m0.0\u001b[0m\u001b[1;33m\u001b[0m\u001b[1;33m\u001b[0m\u001b[0m\n\u001b[0;32m    111\u001b[0m         \u001b[1;32mfor\u001b[0m \u001b[0ml\u001b[0m \u001b[1;32min\u001b[0m \u001b[0mrange\u001b[0m\u001b[1;33m(\u001b[0m\u001b[0mY_test\u001b[0m\u001b[1;33m.\u001b[0m\u001b[0mshape\u001b[0m\u001b[1;33m[\u001b[0m\u001b[1;36m0\u001b[0m\u001b[1;33m]\u001b[0m\u001b[1;33m)\u001b[0m\u001b[1;33m:\u001b[0m\u001b[1;33m\u001b[0m\u001b[1;33m\u001b[0m\u001b[0m\n\u001b[1;32m--> 112\u001b[1;33m           \u001b[1;32mif\u001b[0m \u001b[0mnp\u001b[0m\u001b[1;33m.\u001b[0m\u001b[0mdot\u001b[0m\u001b[1;33m(\u001b[0m\u001b[0mweights\u001b[0m\u001b[1;33m,\u001b[0m\u001b[0mX_test\u001b[0m\u001b[1;33m[\u001b[0m\u001b[0ml\u001b[0m\u001b[1;33m,\u001b[0m\u001b[1;33m:\u001b[0m\u001b[1;33m]\u001b[0m\u001b[1;33m)\u001b[0m\u001b[1;33m*\u001b[0m\u001b[0mY_test\u001b[0m\u001b[1;33m[\u001b[0m\u001b[0ml\u001b[0m\u001b[1;33m]\u001b[0m \u001b[1;33m<\u001b[0m \u001b[1;36m0\u001b[0m\u001b[1;33m:\u001b[0m\u001b[1;33m\u001b[0m\u001b[1;33m\u001b[0m\u001b[0m\n\u001b[0m\u001b[0;32m    113\u001b[0m             \u001b[0macc\u001b[0m \u001b[1;33m+=\u001b[0m \u001b[1;36m1\u001b[0m\u001b[1;33m\u001b[0m\u001b[1;33m\u001b[0m\u001b[0m\n\u001b[0;32m    114\u001b[0m         \u001b[0maccs_inner\u001b[0m\u001b[1;33m.\u001b[0m\u001b[0mappend\u001b[0m\u001b[1;33m(\u001b[0m\u001b[0macc\u001b[0m\u001b[1;33m/\u001b[0m\u001b[0mY_test\u001b[0m\u001b[1;33m.\u001b[0m\u001b[0mshape\u001b[0m\u001b[1;33m[\u001b[0m\u001b[1;36m0\u001b[0m\u001b[1;33m]\u001b[0m\u001b[1;33m)\u001b[0m\u001b[1;33m\u001b[0m\u001b[1;33m\u001b[0m\u001b[0m\n",
      "\u001b[1;31mKeyboardInterrupt\u001b[0m: "
     ]
    }
   ],
   "source": [
    "# algorithm described in https://jmlr.org/papers/volume9/chang08a/chang08a.pdf\n",
    "\n",
    "\n",
    "n_of_features = X_train.shape[1]\n",
    "n_of_observations = Y_train.shape[0]\n",
    "\n",
    "\n",
    "# saved variables\n",
    "\n",
    "# inner\n",
    "dprim0s = []\n",
    "dbis0s = []\n",
    "ds = []\n",
    "weights_sums = []\n",
    "accs_inner = []\n",
    "almighty_all_weights = []\n",
    "\n",
    "for i in range(n_of_features):\n",
    "    almighty_all_weights.append(list())\n",
    "\n",
    "#outer\n",
    "dprim0s2 = []\n",
    "dbis0s2 = []\n",
    "ds2 = []\n",
    "first_weights = []\n",
    "outer_iteration_times = []\n",
    "accs = []\n",
    "\n",
    "\n",
    "\n",
    "# initial weights\n",
    "\n",
    "#weights = np.ones(shape = (1,n_of_features) ) * 1 # initial weights of predictors\n",
    "weights = np.ones((n_of_features)) * 100\n",
    "\n",
    "# hyperparameters\n",
    "beta = 0.5\n",
    "sigma = 0.01\n",
    "C = 5\n",
    "\n",
    "# outer iterations:\n",
    "for k in range(100):\n",
    "    # inner iterations shuld be as many as the number of features\n",
    "    \n",
    "    t0 = time()\n",
    "    \n",
    "    \n",
    "    first_weights.append(weights[0])\n",
    "    for i in range(n_of_features):\n",
    "        almighty_all_weights[i].append(weights[i])\n",
    "        \n",
    "#         if(i%100==0):\n",
    "#           print(\"feature \" , i)\n",
    "        shuffle = np.random.choice(n_of_observations, n_of_observations, replace = False) # shuffling recommended by authors\n",
    "        col = X_train[:,i] #index2Col(X, i)\n",
    "        \n",
    "        # reorder randomly column of X and target (Y):\n",
    "        col_ = col[shuffle]\n",
    "        Y_ = Y_train[shuffle] #np.array(Y.iloc[shuffle])\n",
    "        X_ = X_train[shuffle,:]\n",
    "        \n",
    "        # solving the sub-problem and update weight_i\n",
    "        \n",
    "        ### calculating Newton direction d\n",
    "        \n",
    "        D_prim_0 = 0\n",
    "        \n",
    "        sum_of_squares_of_column = 0\n",
    "        \n",
    "        #----- calculating D'  for z = 0 , in the article: equation (9)\n",
    "        for j in range(n_of_observations): \n",
    "            #----- b_j defined in thr article, part of D' calculations\n",
    "            b_j = max(Y_[j]*float(np.dot(weights,X_[j,:])),0)\n",
    "            #print(float(np.dot(weights,index2Row(df,j))),b_j)\n",
    "            if b_j > 0.0: #----- indicator defined in the article\n",
    "                D_prim_0 += Y_[j]*col_[j]*b_j\n",
    "                sum_of_squares_of_column += col_[j]**2\n",
    "            \n",
    "            \n",
    "        D_prim_0 *= (-2*C)\n",
    "\n",
    "        #D_prim_0 += weights[0,i]\n",
    "        #D_prim_0 += weights[i]\n",
    "\n",
    "\n",
    "        #----- calculating D''  for z = 0 , in the article: equation (10)\n",
    "        D_bis_0 = 1 + 2*C*sum_of_squares_of_column\n",
    "\n",
    "        #-----  equation (13) in the article\n",
    "        d = -D_prim_0/D_bis_0 \n",
    "        ### compute lambda = max{1, beta, beta^2, beta^3, ...}\n",
    "        \n",
    "        # we do this to ensure sufficient convergence condition & to make calculations quicker\n",
    "        # Theorem 1 ( from article) indicated that lambda_ (14) fulfilling (15) \n",
    "        \n",
    "        H_i = 1 + 2*C*np.dot(col_.T,col_)\n",
    "        lambda_ = D_bis_0 /((H_i/2)+sigma)\n",
    "        \n",
    "        lambd = 1\n",
    "        while lambd > lambda_:\n",
    "            lambd *= beta\n",
    "            \n",
    "\n",
    "        ds.append(d)\n",
    "        dprim0s.append(D_prim_0)\n",
    "        dbis0s.append(D_bis_0)\n",
    "        weights_sums.append(weights.sum())\n",
    "        \n",
    "        \n",
    "        acc = 0.0\n",
    "        for l in range(Y_test.shape[0]):\n",
    "          if np.dot(weights,X_test[l,:])*Y_test[l] < 0:\n",
    "            acc += 1\n",
    "        accs_inner.append(acc/Y_test.shape[0])\n",
    "        \n",
    "        \n",
    "        \n",
    "        \n",
    "        \n",
    "        # update weights\n",
    "        weights[i] -= lambd*d\n",
    "        \n",
    "    ds2.append(d)\n",
    "    dprim0s2.append(D_prim_0)\n",
    "    dbis0s2.append(D_bis_0)\n",
    "    outer_iteration_times.append(time() - t0)\n",
    "        \n",
    "        \n",
    "    \n",
    "    if k % 10 == 0:\n",
    "#     if True:\n",
    "        print(\"outer iteration - \", k)\n",
    "        acc = 0.0\n",
    "        for i in range(Y_test.shape[0]):\n",
    "          if np.dot(weights,X_test[i,:])*Y_test[i] < 0:\n",
    "            acc += 1\n",
    "        print(\"Accuracy \",acc/Y_test.shape[0])\n",
    "        print(\"Weights sum: \",weights.sum())\n",
    "        print(\"\\n\")\n",
    "        accs.append(acc/Y_test.shape[0])\n"
   ]
  },
  {
   "cell_type": "code",
   "execution_count": 267,
   "id": "021c8d6d",
   "metadata": {
    "scrolled": true
   },
   "outputs": [
    {
     "name": "stdout",
     "output_type": "stream",
     "text": [
      "MAX ACCURACY ON TEST DATASET: 0.6852217633327348\n"
     ]
    }
   ],
   "source": [
    "print(\"MAX ACCURACY ON TEST DATASET: \" + str(np.max(accs_inner)))\n"
   ]
  },
  {
   "cell_type": "code",
   "execution_count": 268,
   "id": "00f601fb",
   "metadata": {},
   "outputs": [
    {
     "name": "stdout",
     "output_type": "stream",
     "text": [
      "AVERAGE TIME PER OUTER ITERATION: 33.30944 seconds\n"
     ]
    }
   ],
   "source": [
    "print(\"AVERAGE TIME PER OUTER ITERATION: \" + str(round(np.mean(outer_iteration_times), 5)) + \" seconds\")\n"
   ]
  },
  {
   "cell_type": "code",
   "execution_count": 271,
   "id": "b7f063e0",
   "metadata": {},
   "outputs": [
    {
     "data": {
      "text/plain": [
       "Text(0, 0.5, \"d's value\")"
      ]
     },
     "execution_count": 271,
     "metadata": {},
     "output_type": "execute_result"
    },
    {
     "data": {
      "image/png": "[encoded data removed]",
      "text/plain": [
       "<Figure size 432x288 with 1 Axes>"
      ]
     },
     "metadata": {
      "needs_background": "light"
     },
     "output_type": "display_data"
    }
   ],
   "source": [
    "ax = sns.lineplot(x = inn_it[0:10], y = ds2[0:10])\n",
    "ax.set_title(\"Change of Newton's direction d of last variable in time\")\n",
    "ax.set_xlabel(\"Outer iteration\")\n",
    "ax.set_ylabel(\"d's value\")"
   ]
  },
  {
   "cell_type": "code",
   "execution_count": 275,
   "id": "e9f9336e",
   "metadata": {},
   "outputs": [
    {
     "data": {
      "text/plain": [
       "Text(0, 0.5, \"D''(0) value\")"
      ]
     },
     "execution_count": 275,
     "metadata": {},
     "output_type": "execute_result"
    },
    {
     "data": {
      "image/png": "[encoded data removed]",
      "text/plain": [
       "<Figure size 432x288 with 1 Axes>"
      ]
     },
     "metadata": {
      "needs_background": "light"
     },
     "output_type": "display_data"
    }
   ],
   "source": [
    "ax = sns.lineplot(x = inn_it[0:10], y = dprim0s2[0:10])\n",
    "ax.set_title(\"Change of D''(0) of last variable in time\")\n",
    "ax.set_xlabel(\"Outer iteration\")\n",
    "ax.set_ylabel(\"D''(0) value\")"
   ]
  },
  {
   "cell_type": "code",
   "execution_count": 279,
   "id": "0088cd00",
   "metadata": {},
   "outputs": [
    {
     "data": {
      "text/plain": [
       "Text(0, 0.5, \"Weights' sum\")"
      ]
     },
     "execution_count": 279,
     "metadata": {},
     "output_type": "execute_result"
    },
    {
     "data": {
      "image/png": "[encoded data removed]",
      "text/plain": [
       "<Figure size 432x288 with 1 Axes>"
      ]
     },
     "metadata": {
      "needs_background": "light"
     },
     "output_type": "display_data"
    }
   ],
   "source": [
    "ax = sns.lineplot(x = inn_it[0:200], y = weights_sums[0:200])\n",
    "ax.set_title(\"Change of all weights' sum in time\")\n",
    "ax.set_xlabel(\"Inner iteration\")\n",
    "ax.set_ylabel(\"Weights' sum\")"
   ]
  },
  {
   "cell_type": "code",
   "execution_count": 280,
   "id": "63df1110",
   "metadata": {},
   "outputs": [
    {
     "name": "stdout",
     "output_type": "stream",
     "text": [
      "LinearSVC Accuracy ( for comparison): 0.7438498832824565\n"
     ]
    },
    {
     "data": {
      "image/png": "[encoded data removed]",
      "text/plain": [
       "<Figure size 432x288 with 1 Axes>"
      ]
     },
     "metadata": {
      "needs_background": "light"
     },
     "output_type": "display_data"
    }
   ],
   "source": [
    "ax = sns.lineplot(x = inn_it[0:200], y = accs_inner[0:200])\n",
    "ax.set_title(\"Change of accuracy on test dataset in time\")\n",
    "ax.set_xlabel(\"Inner iteration\")\n",
    "ax.set_ylabel(\"Accuracy\")\n",
    "\n",
    "print(\"LinearSVC Accuracy ( for comparison): \" + str(svc_acc))\n",
    "\n",
    "\n",
    "\n"
   ]
  },
  {
   "cell_type": "code",
   "execution_count": 281,
   "id": "f346dac0",
   "metadata": {},
   "outputs": [
    {
     "data": {
      "image/png": "[encoded data removed]",
      "text/plain": [
       "<Figure size 432x288 with 1 Axes>"
      ]
     },
     "metadata": {
      "needs_background": "light"
     },
     "output_type": "display_data"
    }
   ],
   "source": [
    "ax = sns.lineplot(x = inn_it[0:10], y = first_weights[0:10])\n",
    "ax.set_title(\"Change of all features' respective weights in time\")\n",
    "ax.set_xlabel(\"Outer iteration\")\n",
    "ax.set_ylabel(\"Weights' values\")\n",
    "\n",
    "\n",
    "for i in range(1, len(almighty_all_weights)):\n",
    "    sns.lineplot(x = inn_it[0:10], y = almighty_all_weights[i][0:10])"
   ]
  },
  {
   "cell_type": "code",
   "execution_count": null,
   "id": "4561f408",
   "metadata": {},
   "outputs": [],
   "source": []
  },
  {
   "cell_type": "markdown",
   "id": "484091f0",
   "metadata": {},
   "source": [
    "# 1. Banknote authentication data"
   ]
  },
  {
   "cell_type": "code",
   "execution_count": 163,
   "id": "eadfae2d",
   "metadata": {},
   "outputs": [
    {
     "name": "stdout",
     "output_type": "stream",
     "text": [
      "data_banknote_authentication.txt\n",
      "real-sim.bz2\n",
      "real-sim-col.csv\n",
      "smoking.csv\n",
      "X.csv\n",
      "Y.csv\n"
     ]
    }
   ],
   "source": [
    "!ls data"
   ]
  },
  {
   "cell_type": "code",
   "execution_count": 193,
   "id": "a26088fc",
   "metadata": {},
   "outputs": [],
   "source": [
    "# https://archive.ics.uci.edu/ml/datasets/banknote+authentication\n",
    "\n",
    "data = pd.read_csv(\"data/data_banknote_authentication.txt\", header = None)"
   ]
  },
  {
   "cell_type": "code",
   "execution_count": 178,
   "id": "71619843",
   "metadata": {},
   "outputs": [],
   "source": []
  },
  {
   "cell_type": "code",
   "execution_count": 194,
   "id": "c55cc1df",
   "metadata": {},
   "outputs": [],
   "source": [
    "X = data.iloc[:,0:4]\n",
    "Y = data.iloc[:,4]\n",
    "\n",
    "label_mapping = {0: -1,\n",
    "                1: 1}\n",
    "\n",
    "Y = Y.map(label_mapping)\n",
    "\n",
    "X = np.array(X)\n",
    "Y = np.array(Y)\n",
    "\n",
    "# free term\n",
    "X = np.concatenate([X, np.ones(shape = (X.shape[0], 1))], axis=1)"
   ]
  },
  {
   "cell_type": "code",
   "execution_count": 196,
   "id": "9a01813e",
   "metadata": {},
   "outputs": [],
   "source": [
    "# train test split 80/20%\n",
    "\n",
    "\n",
    "X_train, X_test,Y_train, Y_test = train_test_split(X,Y, random_state=44, train_size= 0.8)\n",
    "\n",
    "\n"
   ]
  },
  {
   "cell_type": "code",
   "execution_count": 219,
   "id": "c30f5750",
   "metadata": {},
   "outputs": [
    {
     "name": "stdout",
     "output_type": "stream",
     "text": [
      "Time of LinearSVC algorithm per iteration: 9.488821029663086e-05 seconds\n",
      "Acc: 0.9890909090909091\n"
     ]
    },
    {
     "name": "stderr",
     "output_type": "stream",
     "text": [
      "C:\\Users\\Patryk\\anaconda3\\lib\\site-packages\\sklearn\\svm\\_base.py:1225: ConvergenceWarning: Liblinear failed to converge, increase the number of iterations.\n",
      "  warnings.warn(\n"
     ]
    }
   ],
   "source": [
    "# svc from library\n",
    "from sklearn.svm import LinearSVC\n",
    "svc = LinearSVC(penalty = \"l1\", loss = \"squared_hinge\", max_iter = 100, C = 5, dual = False) # last 2 params - same as in our algorithm\n",
    "\n",
    "t0 = time()\n",
    "svc.fit(X_train,Y_train)\n",
    "t1 = time()\n",
    "\n",
    "print(\"Time of LinearSVC algorithm per iteration: \" + str((t1-t0)/100  ) + \" seconds\")\n",
    "\n",
    "svc_acc = svc.score(X_test,Y_test)\n",
    "\n",
    "print(\"Acc: \" + str(svc_acc))\n",
    "\n"
   ]
  },
  {
   "cell_type": "code",
   "execution_count": 220,
   "id": "4d37d8fd",
   "metadata": {},
   "outputs": [
    {
     "name": "stdout",
     "output_type": "stream",
     "text": [
      "outer iteration -  0\n",
      "Accuracy  0.8909090909090909\n",
      "Weights sum:  476.3312051209003\n",
      "\n",
      "\n",
      "MAX ACCURACY ON TEST DATASET: 0.9781818181818182\n"
     ]
    }
   ],
   "source": [
    "# algorithm described in https://jmlr.org/papers/volume9/chang08a/chang08a.pdf\n",
    "\n",
    "\n",
    "n_of_features = X_train.shape[1]\n",
    "n_of_observations = Y_train.shape[0]\n",
    "\n",
    "\n",
    "# saved variables\n",
    "\n",
    "# inner\n",
    "dprim0s = []\n",
    "dbis0s = []\n",
    "ds = []\n",
    "weights_sums = []\n",
    "accs_inner = []\n",
    "almighty_all_weights = []\n",
    "\n",
    "for i in range(n_of_features):\n",
    "    almighty_all_weights.append(list())\n",
    "\n",
    "#outer\n",
    "dprim0s2 = []\n",
    "dbis0s2 = []\n",
    "ds2 = []\n",
    "first_weights = []\n",
    "outer_iteration_times = []\n",
    "accs = []\n",
    "\n",
    "\n",
    "\n",
    "# initial weights\n",
    "\n",
    "#weights = np.ones(shape = (1,n_of_features) ) * 1 # initial weights of predictors\n",
    "weights = np.ones((n_of_features)) * 100\n",
    "\n",
    "# hyperparameters\n",
    "beta = 0.5\n",
    "sigma = 0.01\n",
    "C = 5\n",
    "\n",
    "# outer iterations:\n",
    "for k in range(100):\n",
    "    # inner iterations shuld be as many as the number of features\n",
    "    \n",
    "    t0 = time()\n",
    "    \n",
    "    \n",
    "    first_weights.append(weights[0])\n",
    "    for i in range(n_of_features):\n",
    "        almighty_all_weights[i].append(weights[i])\n",
    "        \n",
    "#         if(i%100==0):\n",
    "#           print(\"feature \" , i)\n",
    "        shuffle = np.random.choice(n_of_observations, n_of_observations, replace = False) # shuffling recommended by authors\n",
    "        col = X_train[:,i] #index2Col(X, i)\n",
    "        \n",
    "        # reorder randomly column of X and target (Y):\n",
    "        col_ = col[shuffle]\n",
    "        Y_ = Y_train[shuffle] #np.array(Y.iloc[shuffle])\n",
    "        X_ = X_train[shuffle,:]\n",
    "        \n",
    "        # solving the sub-problem and update weight_i\n",
    "        \n",
    "        ### calculating Newton direction d\n",
    "        \n",
    "        D_prim_0 = 0\n",
    "        \n",
    "        sum_of_squares_of_column = 0\n",
    "        \n",
    "        #----- calculating D'  for z = 0 , in the article: equation (9)\n",
    "        for j in range(n_of_observations): \n",
    "            #----- b_j defined in thr article, part of D' calculations\n",
    "            b_j = max(Y_[j]*float(np.dot(weights,X_[j,:])),0)\n",
    "            #print(float(np.dot(weights,index2Row(df,j))),b_j)\n",
    "            if b_j > 0.0: #----- indicator defined in the article\n",
    "                D_prim_0 += Y_[j]*col_[j]*b_j\n",
    "                sum_of_squares_of_column += col_[j]**2\n",
    "            \n",
    "            \n",
    "        D_prim_0 *= (-2*C)\n",
    "\n",
    "        #D_prim_0 += weights[0,i]\n",
    "        #D_prim_0 += weights[i]\n",
    "\n",
    "\n",
    "        #----- calculating D''  for z = 0 , in the article: equation (10)\n",
    "        D_bis_0 = 1 + 2*C*sum_of_squares_of_column\n",
    "\n",
    "        #-----  equation (13) in the article\n",
    "        d = -D_prim_0/D_bis_0 \n",
    "        ### compute lambda = max{1, beta, beta^2, beta^3, ...}\n",
    "        \n",
    "        # we do this to ensure sufficient convergence condition & to make calculations quicker\n",
    "        # Theorem 1 ( from article) indicated that lambda_ (14) fulfilling (15) \n",
    "        \n",
    "        H_i = 1 + 2*C*np.dot(col_.T,col_)\n",
    "        lambda_ = D_bis_0 /((H_i/2)+sigma)\n",
    "        \n",
    "        lambd = 1\n",
    "        while lambd > lambda_:\n",
    "            lambd *= beta\n",
    "            \n",
    "\n",
    "        ds.append(d)\n",
    "        dprim0s.append(D_prim_0)\n",
    "        dbis0s.append(D_bis_0)\n",
    "        weights_sums.append(weights.sum())\n",
    "        \n",
    "        \n",
    "        acc = 0.0\n",
    "        for l in range(Y_test.shape[0]):\n",
    "          if np.dot(weights,X_test[l,:])*Y_test[l] < 0:\n",
    "            acc += 1\n",
    "        accs_inner.append(acc/Y_test.shape[0])\n",
    "        \n",
    "        \n",
    "        \n",
    "        \n",
    "        \n",
    "        # update weights\n",
    "        weights[i] -= lambd*d\n",
    "        \n",
    "    ds2.append(d)\n",
    "    dprim0s2.append(D_prim_0)\n",
    "    dbis0s2.append(D_bis_0)\n",
    "    outer_iteration_times.append(time() - t0)\n",
    "        \n",
    "        \n",
    "    \n",
    "    if k % 100 == 0:\n",
    "#     if True:\n",
    "        print(\"outer iteration - \", k)\n",
    "        acc = 0.0\n",
    "        for i in range(Y_test.shape[0]):\n",
    "          if np.dot(weights,X_test[i,:])*Y_test[i] < 0:\n",
    "            acc += 1\n",
    "        print(\"Accuracy \",acc/Y_test.shape[0])\n",
    "        print(\"Weights sum: \",weights.sum())\n",
    "        print(\"\\n\")\n",
    "        accs.append(acc/Y_test.shape[0])\n",
    "\n",
    "\n",
    "\n",
    "print(\"MAX ACCURACY ON TEST DATASET: \" + str(np.max(accs_inner)))\n",
    "\n"
   ]
  },
  {
   "cell_type": "code",
   "execution_count": 221,
   "id": "3bf73419",
   "metadata": {},
   "outputs": [
    {
     "name": "stdout",
     "output_type": "stream",
     "text": [
      "AVERAGE TIME PER OUTER ITERATION: 0.07976 seconds\n"
     ]
    }
   ],
   "source": [
    "print(\"AVERAGE TIME PER OUTER ITERATION: \" + str(round(np.mean(outer_iteration_times), 5)) + \" seconds\")\n",
    "\n",
    "inn_it = np.arange(0, len(ds))\n",
    "\n"
   ]
  },
  {
   "cell_type": "code",
   "execution_count": 210,
   "id": "6b50bbfe",
   "metadata": {},
   "outputs": [
    {
     "data": {
      "text/plain": [
       "Text(0, 0.5, \"d's value\")"
      ]
     },
     "execution_count": 210,
     "metadata": {},
     "output_type": "execute_result"
    },
    {
     "data": {
      "image/png": "[encoded data removed]",
      "text/plain": [
       "<Figure size 432x288 with 1 Axes>"
      ]
     },
     "metadata": {
      "needs_background": "light"
     },
     "output_type": "display_data"
    }
   ],
   "source": [
    "ax = sns.lineplot(x = inn_it[0:100], y = ds2)\n",
    "ax.set_title(\"Change of Newton's direction d of last variable in time\")\n",
    "ax.set_xlabel(\"Outer iteration\")\n",
    "ax.set_ylabel(\"d's value\")\n",
    "\n",
    "\n",
    "\n"
   ]
  },
  {
   "cell_type": "code",
   "execution_count": 211,
   "id": "b6ef23c0",
   "metadata": {},
   "outputs": [
    {
     "data": {
      "text/plain": [
       "Text(0, 0.5, \"D''(0) value\")"
      ]
     },
     "execution_count": 211,
     "metadata": {},
     "output_type": "execute_result"
    },
    {
     "data": {
      "image/png": "[encoded data removed]",
      "text/plain": [
       "<Figure size 432x288 with 1 Axes>"
      ]
     },
     "metadata": {
      "needs_background": "light"
     },
     "output_type": "display_data"
    }
   ],
   "source": [
    "ax = sns.lineplot(x = inn_it[0:100], y = dprim0s2)\n",
    "ax.set_title(\"Change of D''(0) of last variable in time\")\n",
    "ax.set_xlabel(\"Outer iteration\")\n",
    "ax.set_ylabel(\"D''(0) value\")\n",
    "\n",
    "\n",
    "\n"
   ]
  },
  {
   "cell_type": "code",
   "execution_count": 212,
   "id": "70e752bc",
   "metadata": {},
   "outputs": [
    {
     "data": {
      "text/plain": [
       "Text(0, 0.5, \"Weights' sum\")"
      ]
     },
     "execution_count": 212,
     "metadata": {},
     "output_type": "execute_result"
    },
    {
     "data": {
      "image/png": "[encoded data removed]",
      "text/plain": [
       "<Figure size 432x288 with 1 Axes>"
      ]
     },
     "metadata": {
      "needs_background": "light"
     },
     "output_type": "display_data"
    }
   ],
   "source": [
    "ax = sns.lineplot(x = inn_it, y = weights_sums)\n",
    "ax.set_title(\"Change of all weights' sum in time\")\n",
    "ax.set_xlabel(\"Inner iteration\")\n",
    "ax.set_ylabel(\"Weights' sum\")\n",
    "\n",
    "\n",
    "\n"
   ]
  },
  {
   "cell_type": "code",
   "execution_count": 213,
   "id": "70c5d368",
   "metadata": {},
   "outputs": [
    {
     "name": "stdout",
     "output_type": "stream",
     "text": [
      "LinearSVC Accuracy ( for comparison): 0.9890909090909091\n"
     ]
    },
    {
     "data": {
      "image/png": "[encoded data removed]",
      "text/plain": [
       "<Figure size 432x288 with 1 Axes>"
      ]
     },
     "metadata": {
      "needs_background": "light"
     },
     "output_type": "display_data"
    }
   ],
   "source": [
    "ax = sns.lineplot(x = inn_it[0:100], y = accs_inner[0:100])\n",
    "ax.set_title(\"Change of accuracy on test dataset in time\")\n",
    "ax.set_xlabel(\"Inner iteration\")\n",
    "ax.set_ylabel(\"Accuracy\")\n",
    "\n",
    "print(\"LinearSVC Accuracy ( for comparison): \" + str(svc_acc))\n",
    "\n",
    "\n",
    "\n"
   ]
  },
  {
   "cell_type": "code",
   "execution_count": 215,
   "id": "1da2e365",
   "metadata": {},
   "outputs": [
    {
     "data": {
      "image/png": "[encoded data removed]",
      "text/plain": [
       "<Figure size 432x288 with 1 Axes>"
      ]
     },
     "metadata": {
      "needs_background": "light"
     },
     "output_type": "display_data"
    }
   ],
   "source": [
    "ax = sns.lineplot(x = inn_it[0:100], y = first_weights[0:100])\n",
    "ax.set_title(\"Change of all features' respective weights in time\")\n",
    "ax.set_xlabel(\"Outer iteration\")\n",
    "ax.set_ylabel(\"Weights' values\")\n",
    "\n",
    "\n",
    "for i in range(1, len(almighty_all_weights)):\n",
    "    sns.lineplot(x = inn_it[0:100], y = almighty_all_weights[i][0:100])"
   ]
  },
  {
   "cell_type": "markdown",
   "id": "e45f1a48",
   "metadata": {},
   "source": [
    "## Checking convergence and performance for 2000 iterations"
   ]
  },
  {
   "cell_type": "code",
   "execution_count": 224,
   "id": "4788e6df",
   "metadata": {},
   "outputs": [
    {
     "name": "stdout",
     "output_type": "stream",
     "text": [
      "Time of LinearSVC algorithm per iteration: 0.0003458046913146973 seconds\n",
      "Acc: 0.9927272727272727\n"
     ]
    }
   ],
   "source": [
    "# svc from library\n",
    "from sklearn.svm import LinearSVC\n",
    "svc = LinearSVC(penalty = \"l1\", loss = \"squared_hinge\", max_iter = 2000, C = 5, dual = False) # last 2 params - same as in our algorithm\n",
    "\n",
    "t0 = time()\n",
    "svc.fit(X_train,Y_train)\n",
    "t1 = time()\n",
    "\n",
    "print(\"Time of LinearSVC algorithm per iteration: \" + str((t1-t0)/100  ) + \" seconds\")\n",
    "\n",
    "svc_acc = svc.score(X_test,Y_test)\n",
    "\n",
    "print(\"Acc: \" + str(svc_acc))"
   ]
  },
  {
   "cell_type": "code",
   "execution_count": 223,
   "id": "48404199",
   "metadata": {},
   "outputs": [
    {
     "name": "stdout",
     "output_type": "stream",
     "text": [
      "outer iteration -  0\n",
      "Accuracy  0.8909090909090909\n",
      "Weights sum:  476.3312051209003\n",
      "\n",
      "\n",
      "outer iteration -  100\n",
      "Accuracy  0.9745454545454545\n",
      "Weights sum:  305.10974674911563\n",
      "\n",
      "\n",
      "outer iteration -  200\n",
      "Accuracy  0.9818181818181818\n",
      "Weights sum:  288.30399306734574\n",
      "\n",
      "\n",
      "outer iteration -  300\n",
      "Accuracy  0.9818181818181818\n",
      "Weights sum:  276.8406959458678\n",
      "\n",
      "\n",
      "outer iteration -  400\n",
      "Accuracy  0.9818181818181818\n",
      "Weights sum:  267.7125608006264\n",
      "\n",
      "\n",
      "outer iteration -  500\n",
      "Accuracy  0.9818181818181818\n",
      "Weights sum:  262.1645182248898\n",
      "\n",
      "\n",
      "outer iteration -  600\n",
      "Accuracy  0.9818181818181818\n",
      "Weights sum:  258.0893882162822\n",
      "\n",
      "\n",
      "outer iteration -  700\n",
      "Accuracy  0.9818181818181818\n",
      "Weights sum:  255.09144060970186\n",
      "\n",
      "\n",
      "outer iteration -  800\n",
      "Accuracy  0.9818181818181818\n",
      "Weights sum:  252.82199727990138\n",
      "\n",
      "\n",
      "outer iteration -  900\n",
      "Accuracy  0.9818181818181818\n",
      "Weights sum:  251.06031204873386\n",
      "\n",
      "\n",
      "outer iteration -  1000\n",
      "Accuracy  0.9818181818181818\n",
      "Weights sum:  249.65903753746875\n",
      "\n",
      "\n",
      "outer iteration -  1100\n",
      "Accuracy  0.9818181818181818\n",
      "Weights sum:  248.46383805918413\n",
      "\n",
      "\n",
      "outer iteration -  1200\n",
      "Accuracy  0.9818181818181818\n",
      "Weights sum:  247.44057733163586\n",
      "\n",
      "\n",
      "outer iteration -  1300\n",
      "Accuracy  0.9818181818181818\n",
      "Weights sum:  246.5401317994751\n",
      "\n",
      "\n",
      "outer iteration -  1400\n",
      "Accuracy  0.9818181818181818\n",
      "Weights sum:  245.67226291835232\n",
      "\n",
      "\n",
      "outer iteration -  1500\n",
      "Accuracy  0.9818181818181818\n",
      "Weights sum:  244.99877753449596\n",
      "\n",
      "\n",
      "outer iteration -  1600\n",
      "Accuracy  0.9854545454545455\n",
      "Weights sum:  244.4009226998361\n",
      "\n",
      "\n",
      "outer iteration -  1700\n",
      "Accuracy  0.9854545454545455\n",
      "Weights sum:  243.7061550617761\n",
      "\n",
      "\n",
      "outer iteration -  1800\n",
      "Accuracy  0.9854545454545455\n",
      "Weights sum:  242.9848799885487\n",
      "\n",
      "\n",
      "outer iteration -  1900\n",
      "Accuracy  0.9854545454545455\n",
      "Weights sum:  242.26105979989248\n",
      "\n",
      "\n",
      "outer iteration -  2000\n",
      "Accuracy  0.9854545454545455\n",
      "Weights sum:  241.54666094529273\n",
      "\n",
      "\n"
     ]
    },
    {
     "ename": "KeyboardInterrupt",
     "evalue": "",
     "output_type": "error",
     "traceback": [
      "\u001b[1;31m---------------------------------------------------------------------------\u001b[0m",
      "\u001b[1;31mKeyboardInterrupt\u001b[0m                         Traceback (most recent call last)",
      "\u001b[1;32m~\\AppData\\Local\\Temp/ipykernel_14592/75001647.py\u001b[0m in \u001b[0;36m<module>\u001b[1;34m\u001b[0m\n\u001b[0;32m     71\u001b[0m         \u001b[1;32mfor\u001b[0m \u001b[0mj\u001b[0m \u001b[1;32min\u001b[0m \u001b[0mrange\u001b[0m\u001b[1;33m(\u001b[0m\u001b[0mn_of_observations\u001b[0m\u001b[1;33m)\u001b[0m\u001b[1;33m:\u001b[0m\u001b[1;33m\u001b[0m\u001b[1;33m\u001b[0m\u001b[0m\n\u001b[0;32m     72\u001b[0m             \u001b[1;31m#----- b_j defined in thr article, part of D' calculations\u001b[0m\u001b[1;33m\u001b[0m\u001b[1;33m\u001b[0m\u001b[0m\n\u001b[1;32m---> 73\u001b[1;33m             \u001b[0mb_j\u001b[0m \u001b[1;33m=\u001b[0m \u001b[0mmax\u001b[0m\u001b[1;33m(\u001b[0m\u001b[0mY_\u001b[0m\u001b[1;33m[\u001b[0m\u001b[0mj\u001b[0m\u001b[1;33m]\u001b[0m\u001b[1;33m*\u001b[0m\u001b[0mfloat\u001b[0m\u001b[1;33m(\u001b[0m\u001b[0mnp\u001b[0m\u001b[1;33m.\u001b[0m\u001b[0mdot\u001b[0m\u001b[1;33m(\u001b[0m\u001b[0mweights\u001b[0m\u001b[1;33m,\u001b[0m\u001b[0mX_\u001b[0m\u001b[1;33m[\u001b[0m\u001b[0mj\u001b[0m\u001b[1;33m,\u001b[0m\u001b[1;33m:\u001b[0m\u001b[1;33m]\u001b[0m\u001b[1;33m)\u001b[0m\u001b[1;33m)\u001b[0m\u001b[1;33m,\u001b[0m\u001b[1;36m0\u001b[0m\u001b[1;33m)\u001b[0m\u001b[1;33m\u001b[0m\u001b[1;33m\u001b[0m\u001b[0m\n\u001b[0m\u001b[0;32m     74\u001b[0m             \u001b[1;31m#print(float(np.dot(weights,index2Row(df,j))),b_j)\u001b[0m\u001b[1;33m\u001b[0m\u001b[1;33m\u001b[0m\u001b[0m\n\u001b[0;32m     75\u001b[0m             \u001b[1;32mif\u001b[0m \u001b[0mb_j\u001b[0m \u001b[1;33m>\u001b[0m \u001b[1;36m0.0\u001b[0m\u001b[1;33m:\u001b[0m \u001b[1;31m#----- indicator defined in the article\u001b[0m\u001b[1;33m\u001b[0m\u001b[1;33m\u001b[0m\u001b[0m\n",
      "\u001b[1;32m<__array_function__ internals>\u001b[0m in \u001b[0;36mdot\u001b[1;34m(*args, **kwargs)\u001b[0m\n",
      "\u001b[1;31mKeyboardInterrupt\u001b[0m: "
     ]
    }
   ],
   "source": [
    "# algorithm described in https://jmlr.org/papers/volume9/chang08a/chang08a.pdf\n",
    "\n",
    "\n",
    "n_of_features = X_train.shape[1]\n",
    "n_of_observations = Y_train.shape[0]\n",
    "\n",
    "\n",
    "# saved variables\n",
    "\n",
    "# inner\n",
    "dprim0s = []\n",
    "dbis0s = []\n",
    "ds = []\n",
    "weights_sums = []\n",
    "accs_inner = []\n",
    "almighty_all_weights = []\n",
    "\n",
    "for i in range(n_of_features):\n",
    "    almighty_all_weights.append(list())\n",
    "\n",
    "#outer\n",
    "dprim0s2 = []\n",
    "dbis0s2 = []\n",
    "ds2 = []\n",
    "first_weights = []\n",
    "outer_iteration_times = []\n",
    "accs = []\n",
    "\n",
    "\n",
    "\n",
    "# initial weights\n",
    "\n",
    "#weights = np.ones(shape = (1,n_of_features) ) * 1 # initial weights of predictors\n",
    "weights = np.ones((n_of_features)) * 100\n",
    "\n",
    "# hyperparameters\n",
    "beta = 0.5\n",
    "sigma = 0.01\n",
    "C = 5\n",
    "\n",
    "# outer iterations:\n",
    "for k in range(2000):\n",
    "    # inner iterations shuld be as many as the number of features\n",
    "    \n",
    "    t0 = time()\n",
    "    \n",
    "    \n",
    "    first_weights.append(weights[0])\n",
    "    for i in range(n_of_features):\n",
    "        almighty_all_weights[i].append(weights[i])\n",
    "        \n",
    "#         if(i%100==0):\n",
    "#           print(\"feature \" , i)\n",
    "        shuffle = np.random.choice(n_of_observations, n_of_observations, replace = False) # shuffling recommended by authors\n",
    "        col = X_train[:,i] #index2Col(X, i)\n",
    "        \n",
    "        # reorder randomly column of X and target (Y):\n",
    "        col_ = col[shuffle]\n",
    "        Y_ = Y_train[shuffle] #np.array(Y.iloc[shuffle])\n",
    "        X_ = X_train[shuffle,:]\n",
    "        \n",
    "        # solving the sub-problem and update weight_i\n",
    "        \n",
    "        ### calculating Newton direction d\n",
    "        \n",
    "        D_prim_0 = 0\n",
    "        \n",
    "        sum_of_squares_of_column = 0\n",
    "        \n",
    "        #----- calculating D'  for z = 0 , in the article: equation (9)\n",
    "        for j in range(n_of_observations): \n",
    "            #----- b_j defined in thr article, part of D' calculations\n",
    "            b_j = max(Y_[j]*float(np.dot(weights,X_[j,:])),0)\n",
    "            #print(float(np.dot(weights,index2Row(df,j))),b_j)\n",
    "            if b_j > 0.0: #----- indicator defined in the article\n",
    "                D_prim_0 += Y_[j]*col_[j]*b_j\n",
    "                sum_of_squares_of_column += col_[j]**2\n",
    "            \n",
    "            \n",
    "        D_prim_0 *= (-2*C)\n",
    "\n",
    "        #D_prim_0 += weights[0,i]\n",
    "        #D_prim_0 += weights[i]\n",
    "\n",
    "\n",
    "        #----- calculating D''  for z = 0 , in the article: equation (10)\n",
    "        D_bis_0 = 1 + 2*C*sum_of_squares_of_column\n",
    "\n",
    "        #-----  equation (13) in the article\n",
    "        d = -D_prim_0/D_bis_0 \n",
    "        ### compute lambda = max{1, beta, beta^2, beta^3, ...}\n",
    "        \n",
    "        # we do this to ensure sufficient convergence condition & to make calculations quicker\n",
    "        # Theorem 1 ( from article) indicated that lambda_ (14) fulfilling (15) \n",
    "        \n",
    "        H_i = 1 + 2*C*np.dot(col_.T,col_)\n",
    "        lambda_ = D_bis_0 /((H_i/2)+sigma)\n",
    "        \n",
    "        lambd = 1\n",
    "        while lambd > lambda_:\n",
    "            lambd *= beta\n",
    "            \n",
    "\n",
    "        ds.append(d)\n",
    "        dprim0s.append(D_prim_0)\n",
    "        dbis0s.append(D_bis_0)\n",
    "        weights_sums.append(weights.sum())\n",
    "        \n",
    "        \n",
    "        acc = 0.0\n",
    "        for l in range(Y_test.shape[0]):\n",
    "          if np.dot(weights,X_test[l,:])*Y_test[l] < 0:\n",
    "            acc += 1\n",
    "        accs_inner.append(acc/Y_test.shape[0])\n",
    "        \n",
    "        \n",
    "        \n",
    "        \n",
    "        \n",
    "        # update weights\n",
    "        weights[i] -= lambd*d\n",
    "        \n",
    "    ds2.append(d)\n",
    "    dprim0s2.append(D_prim_0)\n",
    "    dbis0s2.append(D_bis_0)\n",
    "    outer_iteration_times.append(time() - t0)\n",
    "        \n",
    "        \n",
    "    \n",
    "    if k % 100 == 0:\n",
    "#     if True:\n",
    "        print(\"outer iteration - \", k)\n",
    "        acc = 0.0\n",
    "        for i in range(Y_test.shape[0]):\n",
    "          if np.dot(weights,X_test[i,:])*Y_test[i] < 0:\n",
    "            acc += 1\n",
    "        print(\"Accuracy \",acc/Y_test.shape[0])\n",
    "        print(\"Weights sum: \",weights.sum())\n",
    "        print(\"\\n\")\n",
    "        accs.append(acc/Y_test.shape[0])\n",
    "\n"
   ]
  },
  {
   "cell_type": "code",
   "execution_count": 225,
   "id": "a464bb66",
   "metadata": {},
   "outputs": [
    {
     "name": "stdout",
     "output_type": "stream",
     "text": [
      "MAX ACCURACY ON TEST DATASET: 0.9854545454545455\n"
     ]
    }
   ],
   "source": [
    "print(\"MAX ACCURACY ON TEST DATASET: \" + str(np.max(accs_inner)))\n",
    "\n"
   ]
  },
  {
   "cell_type": "code",
   "execution_count": 228,
   "id": "ae22d299",
   "metadata": {},
   "outputs": [
    {
     "name": "stdout",
     "output_type": "stream",
     "text": [
      "AVERAGE TIME PER OUTER ITERATION: 0.07366 seconds\n"
     ]
    }
   ],
   "source": [
    "print(\"AVERAGE TIME PER OUTER ITERATION: \" + str(round(np.mean(outer_iteration_times), 5)) + \" seconds\")\n",
    "\n",
    "inn_it = np.arange(0, len(ds))"
   ]
  },
  {
   "cell_type": "code",
   "execution_count": 229,
   "id": "0baa42b0",
   "metadata": {},
   "outputs": [
    {
     "data": {
      "image/png": "[encoded data removed]",
      "text/plain": [
       "<Figure size 432x288 with 1 Axes>"
      ]
     },
     "metadata": {
      "needs_background": "light"
     },
     "output_type": "display_data"
    }
   ],
   "source": [
    "ax = sns.lineplot(x = inn_it[0:2000], y = first_weights[0:2000])\n",
    "ax.set_title(\"Change of all features' respective weights in time\")\n",
    "ax.set_xlabel(\"Outer iteration\")\n",
    "ax.set_ylabel(\"Weights' values\")\n",
    "\n",
    "\n",
    "for i in range(1, len(almighty_all_weights)):\n",
    "    sns.lineplot(x = inn_it[0:2000], y = almighty_all_weights[i][0:2000])"
   ]
  },
  {
   "cell_type": "markdown",
   "id": "58755d71",
   "metadata": {},
   "source": [
    "# 2. Wisconsin breast cancer"
   ]
  },
  {
   "cell_type": "code",
   "execution_count": 147,
   "id": "8d61ced0",
   "metadata": {},
   "outputs": [
    {
     "data": {
      "text/html": [
       "<div>\n",
       "<style scoped>\n",
       "    .dataframe tbody tr th:only-of-type {\n",
       "        vertical-align: middle;\n",
       "    }\n",
       "\n",
       "    .dataframe tbody tr th {\n",
       "        vertical-align: top;\n",
       "    }\n",
       "\n",
       "    .dataframe thead th {\n",
       "        text-align: right;\n",
       "    }\n",
       "</style>\n",
       "<table border=\"1\" class=\"dataframe\">\n",
       "  <thead>\n",
       "    <tr style=\"text-align: right;\">\n",
       "      <th></th>\n",
       "      <th>1</th>\n",
       "      <th>2</th>\n",
       "      <th>3</th>\n",
       "      <th>4</th>\n",
       "      <th>5</th>\n",
       "      <th>6</th>\n",
       "      <th>7</th>\n",
       "      <th>8</th>\n",
       "      <th>9</th>\n",
       "      <th>10</th>\n",
       "    </tr>\n",
       "  </thead>\n",
       "  <tbody>\n",
       "    <tr>\n",
       "      <th>0</th>\n",
       "      <td>5</td>\n",
       "      <td>1</td>\n",
       "      <td>1</td>\n",
       "      <td>1</td>\n",
       "      <td>2</td>\n",
       "      <td>1</td>\n",
       "      <td>3</td>\n",
       "      <td>1</td>\n",
       "      <td>1</td>\n",
       "      <td>2</td>\n",
       "    </tr>\n",
       "    <tr>\n",
       "      <th>1</th>\n",
       "      <td>5</td>\n",
       "      <td>4</td>\n",
       "      <td>4</td>\n",
       "      <td>5</td>\n",
       "      <td>7</td>\n",
       "      <td>10</td>\n",
       "      <td>3</td>\n",
       "      <td>2</td>\n",
       "      <td>1</td>\n",
       "      <td>2</td>\n",
       "    </tr>\n",
       "    <tr>\n",
       "      <th>2</th>\n",
       "      <td>3</td>\n",
       "      <td>1</td>\n",
       "      <td>1</td>\n",
       "      <td>1</td>\n",
       "      <td>2</td>\n",
       "      <td>2</td>\n",
       "      <td>3</td>\n",
       "      <td>1</td>\n",
       "      <td>1</td>\n",
       "      <td>2</td>\n",
       "    </tr>\n",
       "    <tr>\n",
       "      <th>3</th>\n",
       "      <td>6</td>\n",
       "      <td>8</td>\n",
       "      <td>8</td>\n",
       "      <td>1</td>\n",
       "      <td>3</td>\n",
       "      <td>4</td>\n",
       "      <td>3</td>\n",
       "      <td>7</td>\n",
       "      <td>1</td>\n",
       "      <td>2</td>\n",
       "    </tr>\n",
       "    <tr>\n",
       "      <th>4</th>\n",
       "      <td>4</td>\n",
       "      <td>1</td>\n",
       "      <td>1</td>\n",
       "      <td>3</td>\n",
       "      <td>2</td>\n",
       "      <td>1</td>\n",
       "      <td>3</td>\n",
       "      <td>1</td>\n",
       "      <td>1</td>\n",
       "      <td>2</td>\n",
       "    </tr>\n",
       "  </tbody>\n",
       "</table>\n",
       "</div>"
      ],
      "text/plain": [
       "   1   2   3   4   5   6   7   8   9   10\n",
       "0   5   1   1   1   2   1   3   1   1   2\n",
       "1   5   4   4   5   7  10   3   2   1   2\n",
       "2   3   1   1   1   2   2   3   1   1   2\n",
       "3   6   8   8   1   3   4   3   7   1   2\n",
       "4   4   1   1   3   2   1   3   1   1   2"
      ]
     },
     "execution_count": 147,
     "metadata": {},
     "output_type": "execute_result"
    }
   ],
   "source": [
    "# https://archive.ics.uci.edu/ml/machine-learning-databases/breast-cancer-wisconsin/\n",
    "\n",
    "data = pd.read_csv(\"data/breast-cancer-wisconsin.data\", header = None).iloc[:,1:11]\n",
    "\n",
    "\n",
    "data.head()"
   ]
  },
  {
   "cell_type": "code",
   "execution_count": 153,
   "id": "f65c6e79",
   "metadata": {},
   "outputs": [],
   "source": [
    "X = data.iloc[:,0:9]\n",
    "X.head()\n",
    "\n",
    "Y = data.iloc[:, 9]\n",
    "\n",
    "supermapping = {2: -1, 4: 1}\n",
    "\n",
    "Y = Y.map(supermapping)"
   ]
  },
  {
   "cell_type": "code",
   "execution_count": 154,
   "id": "65d61415",
   "metadata": {},
   "outputs": [],
   "source": [
    "X.dtypes\n",
    "X = X.drop(6, axis = 1)"
   ]
  },
  {
   "cell_type": "code",
   "execution_count": 155,
   "id": "0a5c84c2",
   "metadata": {},
   "outputs": [],
   "source": [
    "X = np.array(X)\n",
    "Y = np.array(Y)\n",
    "\n",
    "for i in range(X.shape[1]):\n",
    "  mean = X[:,i].mean()\n",
    "  std = X[:,i].std()\n",
    "  if std == 0: #If column of zeros\n",
    "    std = 1\n",
    "    print(\"Std is Zero\")\n",
    "    print(i)\n",
    "  X[:,i] = (X[:,i] - mean)/std\n",
    "\n",
    "# free term\n",
    "X = np.concatenate([X, np.ones(shape = (X.shape[0], 1))], axis=1)"
   ]
  },
  {
   "cell_type": "code",
   "execution_count": 156,
   "id": "f878d1f8",
   "metadata": {},
   "outputs": [
    {
     "data": {
      "text/plain": [
       "array([[0., 0., 0., ..., 0., 0., 1.],\n",
       "       [0., 0., 0., ..., 0., 0., 1.],\n",
       "       [0., 0., 0., ..., 0., 0., 1.],\n",
       "       ...,\n",
       "       [0., 2., 2., ..., 2., 0., 1.],\n",
       "       [0., 1., 0., ..., 1., 0., 1.],\n",
       "       [0., 1., 1., ..., 0., 0., 1.]])"
      ]
     },
     "execution_count": 156,
     "metadata": {},
     "output_type": "execute_result"
    }
   ],
   "source": [
    "X"
   ]
  },
  {
   "cell_type": "code",
   "execution_count": 158,
   "id": "757c0f89",
   "metadata": {},
   "outputs": [],
   "source": [
    "# train test split 80/20%\n",
    "\n",
    "\n",
    "X_train, X_test,Y_train, Y_test = train_test_split(X,Y, random_state=44, train_size= 0.8)\n",
    "\n",
    "\n"
   ]
  },
  {
   "cell_type": "code",
   "execution_count": 159,
   "id": "56f53a0e",
   "metadata": {},
   "outputs": [
    {
     "name": "stdout",
     "output_type": "stream",
     "text": [
      "Time of LinearSVC algorithm per iteration: 3.700733184814453e-05 seconds\n",
      "Acc: 0.9285714285714286\n"
     ]
    }
   ],
   "source": [
    "# svc from library\n",
    "from sklearn.svm import LinearSVC\n",
    "svc = LinearSVC(penalty = \"l1\", loss = \"squared_hinge\", max_iter = 100, C = 5, dual = False) # last 2 params - same as in our algorithm\n",
    "\n",
    "t0 = time()\n",
    "svc.fit(X_train,Y_train)\n",
    "t1 = time()\n",
    "\n",
    "print(\"Time of LinearSVC algorithm per iteration: \" + str((t1-t0)/100  ) + \" seconds\")\n",
    "\n",
    "svc_acc = svc.score(X_test,Y_test)\n",
    "\n",
    "print(\"Acc: \" + str(svc_acc))"
   ]
  },
  {
   "cell_type": "code",
   "execution_count": 160,
   "id": "5c755d98",
   "metadata": {},
   "outputs": [
    {
     "name": "stdout",
     "output_type": "stream",
     "text": [
      "outer iteration -  0\n",
      "Accuracy  0.9071428571428571\n",
      "Weights sum:  -575.2901980322606\n",
      "\n",
      "\n",
      "outer iteration -  10\n",
      "Accuracy  0.9214285714285714\n",
      "Weights sum:  -683.6461901090802\n",
      "\n",
      "\n",
      "outer iteration -  20\n",
      "Accuracy  0.9285714285714286\n",
      "Weights sum:  -617.8290557222489\n",
      "\n",
      "\n",
      "outer iteration -  30\n",
      "Accuracy  0.9357142857142857\n",
      "Weights sum:  -557.4689736404565\n",
      "\n",
      "\n",
      "outer iteration -  40\n",
      "Accuracy  0.9285714285714286\n",
      "Weights sum:  -509.0337094363647\n",
      "\n",
      "\n",
      "outer iteration -  50\n",
      "Accuracy  0.9285714285714286\n",
      "Weights sum:  -467.0331310600284\n",
      "\n",
      "\n",
      "outer iteration -  60\n",
      "Accuracy  0.9285714285714286\n",
      "Weights sum:  -428.9508212139556\n",
      "\n",
      "\n",
      "outer iteration -  70\n",
      "Accuracy  0.9285714285714286\n",
      "Weights sum:  -395.7686606426171\n",
      "\n",
      "\n",
      "outer iteration -  80\n",
      "Accuracy  0.9285714285714286\n",
      "Weights sum:  -369.34925412325896\n",
      "\n",
      "\n",
      "outer iteration -  90\n",
      "Accuracy  0.9285714285714286\n",
      "Weights sum:  -345.5709138613934\n",
      "\n",
      "\n"
     ]
    }
   ],
   "source": [
    "# algorithm described in https://jmlr.org/papers/volume9/chang08a/chang08a.pdf\n",
    "\n",
    "\n",
    "n_of_features = X_train.shape[1]\n",
    "n_of_observations = Y_train.shape[0]\n",
    "\n",
    "\n",
    "# saved variables\n",
    "\n",
    "# inner\n",
    "dprim0s = []\n",
    "dbis0s = []\n",
    "ds = []\n",
    "weights_sums = []\n",
    "accs_inner = []\n",
    "almighty_all_weights = []\n",
    "\n",
    "for i in range(n_of_features):\n",
    "    almighty_all_weights.append(list())\n",
    "\n",
    "#outer\n",
    "dprim0s2 = []\n",
    "dbis0s2 = []\n",
    "ds2 = []\n",
    "first_weights = []\n",
    "outer_iteration_times = []\n",
    "accs = []\n",
    "\n",
    "\n",
    "\n",
    "# initial weights\n",
    "\n",
    "#weights = np.ones(shape = (1,n_of_features) ) * 1 # initial weights of predictors\n",
    "weights = np.ones((n_of_features)) * 100\n",
    "\n",
    "# hyperparameters\n",
    "beta = 0.5\n",
    "sigma = 0.01\n",
    "C = 5\n",
    "\n",
    "# outer iterations:\n",
    "for k in range(100):\n",
    "    # inner iterations shuld be as many as the number of features\n",
    "    \n",
    "    t0 = time()\n",
    "    \n",
    "    \n",
    "    first_weights.append(weights[0])\n",
    "    for i in range(n_of_features):\n",
    "        almighty_all_weights[i].append(weights[i])\n",
    "        \n",
    "#         if(i%100==0):\n",
    "#           print(\"feature \" , i)\n",
    "        shuffle = np.random.choice(n_of_observations, n_of_observations, replace = False) # shuffling recommended by authors\n",
    "        col = X_train[:,i] #index2Col(X, i)\n",
    "        \n",
    "        # reorder randomly column of X and target (Y):\n",
    "        col_ = col[shuffle]\n",
    "        Y_ = Y_train[shuffle] #np.array(Y.iloc[shuffle])\n",
    "        X_ = X_train[shuffle,:]\n",
    "        \n",
    "        # solving the sub-problem and update weight_i\n",
    "        \n",
    "        ### calculating Newton direction d\n",
    "        \n",
    "        D_prim_0 = 0\n",
    "        \n",
    "        sum_of_squares_of_column = 0\n",
    "        \n",
    "        #----- calculating D'  for z = 0 , in the article: equation (9)\n",
    "        for j in range(n_of_observations): \n",
    "            #----- b_j defined in thr article, part of D' calculations\n",
    "            b_j = max(Y_[j]*float(np.dot(weights,X_[j,:])),0)\n",
    "            #print(float(np.dot(weights,index2Row(df,j))),b_j)\n",
    "            if b_j > 0.0: #----- indicator defined in the article\n",
    "                D_prim_0 += Y_[j]*col_[j]*b_j\n",
    "                sum_of_squares_of_column += col_[j]**2\n",
    "            \n",
    "            \n",
    "        D_prim_0 *= (-2*C)\n",
    "\n",
    "        #D_prim_0 += weights[0,i]\n",
    "        #D_prim_0 += weights[i]\n",
    "\n",
    "\n",
    "        #----- calculating D''  for z = 0 , in the article: equation (10)\n",
    "        D_bis_0 = 1 + 2*C*sum_of_squares_of_column\n",
    "\n",
    "        #-----  equation (13) in the article\n",
    "        d = -D_prim_0/D_bis_0 \n",
    "        ### compute lambda = max{1, beta, beta^2, beta^3, ...}\n",
    "        \n",
    "        # we do this to ensure sufficient convergence condition & to make calculations quicker\n",
    "        # Theorem 1 ( from article) indicated that lambda_ (14) fulfilling (15) \n",
    "        \n",
    "        H_i = 1 + 2*C*np.dot(col_.T,col_)\n",
    "        lambda_ = D_bis_0 /((H_i/2)+sigma)\n",
    "        \n",
    "        lambd = 1\n",
    "        while lambd > lambda_:\n",
    "            lambd *= beta\n",
    "            \n",
    "\n",
    "        ds.append(d)\n",
    "        dprim0s.append(D_prim_0)\n",
    "        dbis0s.append(D_bis_0)\n",
    "        weights_sums.append(weights.sum())\n",
    "        \n",
    "        \n",
    "        acc = 0.0\n",
    "        for l in range(Y_test.shape[0]):\n",
    "          if np.dot(weights,X_test[l,:])*Y_test[l] < 0:\n",
    "            acc += 1\n",
    "        accs_inner.append(acc/Y_test.shape[0])\n",
    "        \n",
    "        \n",
    "        \n",
    "        \n",
    "        \n",
    "        # update weights\n",
    "        weights[i] -= lambd*d\n",
    "        \n",
    "    ds2.append(d)\n",
    "    dprim0s2.append(D_prim_0)\n",
    "    dbis0s2.append(D_bis_0)\n",
    "    outer_iteration_times.append(time() - t0)\n",
    "        \n",
    "        \n",
    "    \n",
    "    if k % 10 == 0:\n",
    "#     if True:\n",
    "        print(\"outer iteration - \", k)\n",
    "        acc = 0.0\n",
    "        for i in range(Y_test.shape[0]):\n",
    "          if np.dot(weights,X_test[i,:])*Y_test[i] < 0:\n",
    "            acc += 1\n",
    "        print(\"Accuracy \",acc/Y_test.shape[0])\n",
    "        print(\"Weights sum: \",weights.sum())\n",
    "        print(\"\\n\")\n",
    "        accs.append(acc/Y_test.shape[0])\n",
    "\n"
   ]
  },
  {
   "cell_type": "code",
   "execution_count": 245,
   "id": "cd390f67",
   "metadata": {},
   "outputs": [
    {
     "name": "stdout",
     "output_type": "stream",
     "text": [
      "outer iteration -  0\n",
      "Accuracy  0.6738197424892703\n",
      "Weights sum:  -15.533713864091453\n",
      "\n",
      "\n",
      "outer iteration -  100\n",
      "Accuracy  0.9413447782546495\n",
      "Weights sum:  106.34219318891958\n",
      "\n",
      "\n",
      "outer iteration -  200\n",
      "Accuracy  0.949928469241774\n",
      "Weights sum:  99.93456249351736\n",
      "\n",
      "\n",
      "outer iteration -  300\n",
      "Accuracy  0.9513590844062947\n",
      "Weights sum:  87.76409865849202\n",
      "\n",
      "\n",
      "outer iteration -  400\n",
      "Accuracy  0.9513590844062947\n",
      "Weights sum:  76.61881618127036\n",
      "\n",
      "\n",
      "outer iteration -  500\n",
      "Accuracy  0.9513590844062947\n",
      "Weights sum:  67.37694967893914\n",
      "\n",
      "\n",
      "outer iteration -  600\n",
      "Accuracy  0.949928469241774\n",
      "Weights sum:  59.10135826029666\n",
      "\n",
      "\n",
      "outer iteration -  700\n",
      "Accuracy  0.9484978540772532\n",
      "Weights sum:  51.969878545492286\n",
      "\n",
      "\n",
      "outer iteration -  800\n",
      "Accuracy  0.9470672389127325\n",
      "Weights sum:  45.933842785060115\n",
      "\n",
      "\n",
      "outer iteration -  900\n",
      "Accuracy  0.9484978540772532\n",
      "Weights sum:  40.48627866059195\n",
      "\n",
      "\n"
     ]
    }
   ],
   "source": [
    "# # algorithm described in https://jmlr.org/papers/volume9/chang08a/chang08a.pdf\n",
    "\n",
    "\n",
    "# n_of_features = X.shape[1]\n",
    "# n_of_observations = Y.shape[0]\n",
    "\n",
    "\n",
    "# # initial weights\n",
    "\n",
    "# #weights = np.ones(shape = (1,n_of_features) ) * 1 # initial weights of predictors\n",
    "# weights = np.ones((n_of_features)) * -100\n",
    "\n",
    "# # hyperparameters\n",
    "# beta = 0.5\n",
    "# sigma = 0.01\n",
    "# C = 5\n",
    "\n",
    "# # outer iterations:\n",
    "# for k in range(1000):\n",
    "#     # inner iterations shuld be as many as the number of features\n",
    "#     for i in range(n_of_features):\n",
    "# #         if(i%100==0):\n",
    "# #           print(\"feature \" , i)\n",
    "#         shuffle = np.random.choice(n_of_observations, n_of_observations, replace = False) # shuffling recommended by authors\n",
    "#         col = X[:,i] #index2Col(X, i)\n",
    "        \n",
    "#         # reorder randomly column of X and target (Y):\n",
    "#         col_ = col[shuffle]\n",
    "#         Y_ = Y[shuffle] #np.array(Y.iloc[shuffle])\n",
    "#         X_ = X[shuffle,:]\n",
    "        \n",
    "#         # solving the sub-problem and update weight_i\n",
    "        \n",
    "#         ### calculating Newton direction d\n",
    "        \n",
    "#         D_prim_0 = 0\n",
    "        \n",
    "#         sum_of_squares_of_column = 0\n",
    "        \n",
    "#         #----- calculating D'  for z = 0 , in the article: equation (9)\n",
    "#         for j in range(n_of_observations): \n",
    "#             #----- b_j defined in thr article, part of D' calculations\n",
    "#             b_j = max(Y_[j]*float(np.dot(weights,X_[j,:])),0)\n",
    "#             #print(float(np.dot(weights,index2Row(df,j))),b_j)\n",
    "#             if b_j > 0.0: #----- indicator defined in the article\n",
    "#                 D_prim_0 += Y_[j]*col_[j]*b_j\n",
    "#                 sum_of_squares_of_column += col_[j]**2\n",
    "            \n",
    "            \n",
    "#         D_prim_0 *= (-2*C)\n",
    "\n",
    "#         #D_prim_0 += weights[0,i]\n",
    "#         #D_prim_0 += weights[i]\n",
    "\n",
    "\n",
    "#         #----- calculating D''  for z = 0 , in the article: equation (10)\n",
    "#         D_bis_0 = 1 + 2*C*sum_of_squares_of_column\n",
    "\n",
    "#         #-----  equation (13) in the article\n",
    "#         d = -D_prim_0/D_bis_0 \n",
    "#         ### compute lambda = max{1, beta, beta^2, beta^3, ...}\n",
    "        \n",
    "#         # we do this to ensure sufficient convergence condition & to make calculations quicker\n",
    "#         # Theorem 1 ( from article) indicated that lambda_ (14) fulfilling (15) \n",
    "        \n",
    "#         H_i = 1 + 2*C*np.dot(col_.T,col_)\n",
    "#         lambda_ = D_bis_0 /((H_i/2)+sigma)\n",
    "        \n",
    "#         lambd = 1\n",
    "#         while lambd > lambda_:\n",
    "#             lambd *= beta\n",
    "            \n",
    "#         # update weights\n",
    "#         weights[i] -= lambd*d\n",
    "#     if k % 100 == 0:\n",
    "# #     if True:\n",
    "#         print(\"outer iteration - \", k)\n",
    "#         acc = 0.0\n",
    "#         for i in range(n_of_observations):\n",
    "#           if np.dot(weights,X[i,:])*Y[i] < 0:\n",
    "#             acc += 1\n",
    "#         print(\"Accuracy \",acc/n_of_observations)\n",
    "#         print(\"Weights sum: \",weights.sum())\n",
    "#         print(\"\\n\")\n",
    "\n"
   ]
  },
  {
   "cell_type": "code",
   "execution_count": 161,
   "id": "8ab50906",
   "metadata": {},
   "outputs": [
    {
     "name": "stdout",
     "output_type": "stream",
     "text": [
      "MAX ACCURACY ON TEST DATASET: 0.9428571428571428\n"
     ]
    }
   ],
   "source": [
    "print(\"MAX ACCURACY ON TEST DATASET: \" + str(np.max(accs_inner)))"
   ]
  },
  {
   "cell_type": "code",
   "execution_count": 162,
   "id": "7522bd3b",
   "metadata": {},
   "outputs": [
    {
     "name": "stdout",
     "output_type": "stream",
     "text": [
      "AVERAGE TIME PER OUTER ITERATION: 0.08056 seconds\n"
     ]
    }
   ],
   "source": [
    "print(\"AVERAGE TIME PER OUTER ITERATION: \" + str(round(np.mean(outer_iteration_times), 5)) + \" seconds\")\n",
    "\n",
    "inn_it = np.arange(0, len(ds))"
   ]
  },
  {
   "cell_type": "code",
   "execution_count": 168,
   "id": "f1adcccd",
   "metadata": {},
   "outputs": [
    {
     "data": {
      "text/plain": [
       "Text(0, 0.5, \"d's value\")"
      ]
     },
     "execution_count": 168,
     "metadata": {},
     "output_type": "execute_result"
    },
    {
     "data": {
      "image/png": "[encoded data removed]",
      "text/plain": [
       "<Figure size 432x288 with 1 Axes>"
      ]
     },
     "metadata": {
      "needs_background": "light"
     },
     "output_type": "display_data"
    }
   ],
   "source": [
    "ax = sns.lineplot(x = inn_it[0:100], y = ds2)\n",
    "ax.set_title(\"Change of Newton's direction d of last variable in time\")\n",
    "ax.set_xlabel(\"Outer iteration\")\n",
    "ax.set_ylabel(\"d's value\")\n",
    "\n"
   ]
  },
  {
   "cell_type": "code",
   "execution_count": 167,
   "id": "50b42586",
   "metadata": {},
   "outputs": [
    {
     "data": {
      "text/plain": [
       "Text(0, 0.5, \"D''(0) value\")"
      ]
     },
     "execution_count": 167,
     "metadata": {},
     "output_type": "execute_result"
    },
    {
     "data": {
      "image/png": "[encoded data removed]",
      "text/plain": [
       "<Figure size 432x288 with 1 Axes>"
      ]
     },
     "metadata": {
      "needs_background": "light"
     },
     "output_type": "display_data"
    }
   ],
   "source": [
    "ax = sns.lineplot(x = inn_it[0:100], y = dprim0s2)\n",
    "ax.set_title(\"Change of D''(0) of last variable in time\")\n",
    "ax.set_xlabel(\"Outer iteration\")\n",
    "ax.set_ylabel(\"D''(0) value\")\n",
    "\n"
   ]
  },
  {
   "cell_type": "code",
   "execution_count": 172,
   "id": "3500e5b0",
   "metadata": {},
   "outputs": [
    {
     "data": {
      "text/plain": [
       "Text(0, 0.5, \"Weights' sum\")"
      ]
     },
     "execution_count": 172,
     "metadata": {},
     "output_type": "execute_result"
    },
    {
     "data": {
      "image/png": "[encoded data removed]",
      "text/plain": [
       "<Figure size 432x288 with 1 Axes>"
      ]
     },
     "metadata": {
      "needs_background": "light"
     },
     "output_type": "display_data"
    }
   ],
   "source": [
    "ax = sns.lineplot(x = inn_it, y = weights_sums)\n",
    "ax.set_title(\"Change of all weights' sum in time\")\n",
    "ax.set_xlabel(\"Inner iteration\")\n",
    "ax.set_ylabel(\"Weights' sum\")\n",
    "\n"
   ]
  },
  {
   "cell_type": "code",
   "execution_count": 175,
   "id": "7194eed3",
   "metadata": {},
   "outputs": [
    {
     "name": "stdout",
     "output_type": "stream",
     "text": [
      "LinearSVC Accuracy ( for comparison): 0.9285714285714286\n"
     ]
    },
    {
     "data": {
      "image/png": "[encoded data removed]",
      "text/plain": [
       "<Figure size 432x288 with 1 Axes>"
      ]
     },
     "metadata": {
      "needs_background": "light"
     },
     "output_type": "display_data"
    }
   ],
   "source": [
    "ax = sns.lineplot(x = inn_it[0:100], y = accs_inner[0:100])\n",
    "ax.set_title(\"Change of accuracy on test dataset in time\")\n",
    "ax.set_xlabel(\"Inner iteration\")\n",
    "ax.set_ylabel(\"Accuracy\")\n",
    "\n",
    "print(\"LinearSVC Accuracy ( for comparison): \" + str(svc_acc))\n",
    "\n"
   ]
  },
  {
   "cell_type": "code",
   "execution_count": 181,
   "id": "335c9c85",
   "metadata": {},
   "outputs": [
    {
     "data": {
      "image/png": "[encoded data removed]",
      "text/plain": [
       "<Figure size 432x288 with 1 Axes>"
      ]
     },
     "metadata": {
      "needs_background": "light"
     },
     "output_type": "display_data"
    }
   ],
   "source": [
    "ax = sns.lineplot(x = inn_it[0:100], y = first_weights[0:100])\n",
    "ax.set_title(\"Change of all features' respective weights in time\")\n",
    "ax.set_xlabel(\"Outer iteration\")\n",
    "ax.set_ylabel(\"Weights' values\")\n",
    "\n",
    "\n",
    "for i in range(1, len(almighty_all_weights)):\n",
    "    sns.lineplot(x = inn_it[0:100], y = almighty_all_weights[i][0:100])"
   ]
  },
  {
   "cell_type": "code",
   "execution_count": null,
   "id": "031b3a49",
   "metadata": {},
   "outputs": [],
   "source": []
  },
  {
   "cell_type": "markdown",
   "id": "afa8c6d7",
   "metadata": {},
   "source": [
    "# 3. Haberman data"
   ]
  },
  {
   "cell_type": "code",
   "execution_count": 183,
   "id": "8238d91d",
   "metadata": {},
   "outputs": [],
   "source": [
    "# https://archive.ics.uci.edu/ml/datasets/Haberman%27s+Survival\n",
    "\n",
    "data = pd.read_csv(\"data/haberman.data\", header= None)"
   ]
  },
  {
   "cell_type": "code",
   "execution_count": 184,
   "id": "b9e118fd",
   "metadata": {},
   "outputs": [],
   "source": [
    "X = data.iloc[:, 0:3]\n",
    "\n",
    "Y = data.iloc[:,3]\n",
    "\n",
    "supermapping = {1: -1, 2: 1}\n",
    "\n",
    "Y = Y.map(supermapping)"
   ]
  },
  {
   "cell_type": "code",
   "execution_count": 5,
   "id": "11f05eb9",
   "metadata": {},
   "outputs": [
    {
     "data": {
      "text/plain": [
       "array([-1,  1], dtype=int64)"
      ]
     },
     "execution_count": 5,
     "metadata": {},
     "output_type": "execute_result"
    }
   ],
   "source": [
    "np.unique(Y)"
   ]
  },
  {
   "cell_type": "code",
   "execution_count": 6,
   "id": "f4ab5467",
   "metadata": {},
   "outputs": [
    {
     "data": {
      "text/plain": [
       "0    10.803452\n",
       "1     3.249405\n",
       "2     7.189654\n",
       "dtype: float64"
      ]
     },
     "execution_count": 6,
     "metadata": {},
     "output_type": "execute_result"
    }
   ],
   "source": [
    "X.std()"
   ]
  },
  {
   "cell_type": "code",
   "execution_count": 185,
   "id": "0ceea189",
   "metadata": {},
   "outputs": [],
   "source": [
    "X = np.array(X)\n",
    "Y = np. array(Y)"
   ]
  },
  {
   "cell_type": "code",
   "execution_count": 186,
   "id": "b0cf7f3c",
   "metadata": {},
   "outputs": [],
   "source": [
    "for i in range(X.shape[1]):\n",
    "  mean = X[:,i].mean()\n",
    "  std = X[:,i].std()\n",
    "  if std == 0: #If column of zeros\n",
    "    std = 1\n",
    "    print(\"Std is Zero\")\n",
    "    print(i)\n",
    "  X[:,i] = (X[:,i] - mean)/std"
   ]
  },
  {
   "cell_type": "code",
   "execution_count": 188,
   "id": "b60622ac",
   "metadata": {},
   "outputs": [],
   "source": [
    "# free term\n",
    "X = np.concatenate([X, np.ones(shape = (X.shape[0], 1))], axis=1)"
   ]
  },
  {
   "cell_type": "code",
   "execution_count": 189,
   "id": "dc08b47d",
   "metadata": {},
   "outputs": [],
   "source": [
    "# train test split 80/20%\n",
    "\n",
    "\n",
    "X_train, X_test,Y_train, Y_test = train_test_split(X,Y, random_state=44, train_size= 0.8)\n",
    "\n",
    "\n"
   ]
  },
  {
   "cell_type": "code",
   "execution_count": 190,
   "id": "c0cc9709",
   "metadata": {},
   "outputs": [
    {
     "name": "stdout",
     "output_type": "stream",
     "text": [
      "Time of LinearSVC algorithm per iteration: 8.928775787353516e-05 seconds\n",
      "Acc: 0.7096774193548387\n"
     ]
    }
   ],
   "source": [
    "# svc from library\n",
    "from sklearn.svm import LinearSVC\n",
    "svc = LinearSVC(penalty = \"l1\", loss = \"squared_hinge\", max_iter = 100, C = 5, dual = False) # last 2 params - same as in our algorithm\n",
    "\n",
    "t0 = time()\n",
    "svc.fit(X_train,Y_train)\n",
    "t1 = time()\n",
    "\n",
    "print(\"Time of LinearSVC algorithm per iteration: \" + str((t1-t0)/100  ) + \" seconds\")\n",
    "\n",
    "svc_acc = svc.score(X_test,Y_test)\n",
    "\n",
    "print(\"Acc: \" + str(svc_acc))"
   ]
  },
  {
   "cell_type": "code",
   "execution_count": 191,
   "id": "ce7bb46f",
   "metadata": {},
   "outputs": [
    {
     "name": "stdout",
     "output_type": "stream",
     "text": [
      "outer iteration -  0\n",
      "Accuracy  0.7419354838709677\n",
      "Weights sum:  135.32242208275088\n",
      "\n",
      "\n",
      "outer iteration -  10\n",
      "Accuracy  0.7741935483870968\n",
      "Weights sum:  -1.0480003512429783\n",
      "\n",
      "\n",
      "outer iteration -  20\n",
      "Accuracy  0.6774193548387096\n",
      "Weights sum:  -0.10902122636996409\n",
      "\n",
      "\n",
      "outer iteration -  30\n",
      "Accuracy  0.6774193548387096\n",
      "Weights sum:  -0.008445625980365596\n",
      "\n",
      "\n",
      "outer iteration -  40\n",
      "Accuracy  0.6774193548387096\n",
      "Weights sum:  -0.000610953516728853\n",
      "\n",
      "\n",
      "outer iteration -  50\n",
      "Accuracy  0.6774193548387096\n",
      "Weights sum:  -4.4138554796034366e-05\n",
      "\n",
      "\n",
      "outer iteration -  60\n",
      "Accuracy  0.6774193548387096\n",
      "Weights sum:  -3.1887587337155196e-06\n",
      "\n",
      "\n",
      "outer iteration -  70\n",
      "Accuracy  0.6774193548387096\n",
      "Weights sum:  -2.3036959763598742e-07\n",
      "\n",
      "\n",
      "outer iteration -  80\n",
      "Accuracy  0.6774193548387096\n",
      "Weights sum:  -1.6642887068120467e-08\n",
      "\n",
      "\n",
      "outer iteration -  90\n",
      "Accuracy  0.6774193548387096\n",
      "Weights sum:  -1.202353491110628e-09\n",
      "\n",
      "\n"
     ]
    }
   ],
   "source": [
    "# algorithm described in https://jmlr.org/papers/volume9/chang08a/chang08a.pdf\n",
    "\n",
    "\n",
    "n_of_features = X_train.shape[1]\n",
    "n_of_observations = Y_train.shape[0]\n",
    "\n",
    "\n",
    "# saved variables\n",
    "\n",
    "# inner\n",
    "dprim0s = []\n",
    "dbis0s = []\n",
    "ds = []\n",
    "weights_sums = []\n",
    "accs_inner = []\n",
    "almighty_all_weights = []\n",
    "\n",
    "for i in range(n_of_features):\n",
    "    almighty_all_weights.append(list())\n",
    "\n",
    "#outer\n",
    "dprim0s2 = []\n",
    "dbis0s2 = []\n",
    "ds2 = []\n",
    "first_weights = []\n",
    "outer_iteration_times = []\n",
    "accs = []\n",
    "\n",
    "\n",
    "\n",
    "# initial weights\n",
    "\n",
    "#weights = np.ones(shape = (1,n_of_features) ) * 1 # initial weights of predictors\n",
    "weights = np.ones((n_of_features)) * 100\n",
    "\n",
    "# hyperparameters\n",
    "beta = 0.5\n",
    "sigma = 0.01\n",
    "C = 5\n",
    "\n",
    "# outer iterations:\n",
    "for k in range(100):\n",
    "    # inner iterations shuld be as many as the number of features\n",
    "    \n",
    "    t0 = time()\n",
    "    \n",
    "    \n",
    "    first_weights.append(weights[0])\n",
    "    for i in range(n_of_features):\n",
    "        almighty_all_weights[i].append(weights[i])\n",
    "        \n",
    "#         if(i%100==0):\n",
    "#           print(\"feature \" , i)\n",
    "        shuffle = np.random.choice(n_of_observations, n_of_observations, replace = False) # shuffling recommended by authors\n",
    "        col = X_train[:,i] #index2Col(X, i)\n",
    "        \n",
    "        # reorder randomly column of X and target (Y):\n",
    "        col_ = col[shuffle]\n",
    "        Y_ = Y_train[shuffle] #np.array(Y.iloc[shuffle])\n",
    "        X_ = X_train[shuffle,:]\n",
    "        \n",
    "        # solving the sub-problem and update weight_i\n",
    "        \n",
    "        ### calculating Newton direction d\n",
    "        \n",
    "        D_prim_0 = 0\n",
    "        \n",
    "        sum_of_squares_of_column = 0\n",
    "        \n",
    "        #----- calculating D'  for z = 0 , in the article: equation (9)\n",
    "        for j in range(n_of_observations): \n",
    "            #----- b_j defined in thr article, part of D' calculations\n",
    "            b_j = max(Y_[j]*float(np.dot(weights,X_[j,:])),0)\n",
    "            #print(float(np.dot(weights,index2Row(df,j))),b_j)\n",
    "            if b_j > 0.0: #----- indicator defined in the article\n",
    "                D_prim_0 += Y_[j]*col_[j]*b_j\n",
    "                sum_of_squares_of_column += col_[j]**2\n",
    "            \n",
    "            \n",
    "        D_prim_0 *= (-2*C)\n",
    "\n",
    "        #D_prim_0 += weights[0,i]\n",
    "        #D_prim_0 += weights[i]\n",
    "\n",
    "\n",
    "        #----- calculating D''  for z = 0 , in the article: equation (10)\n",
    "        D_bis_0 = 1 + 2*C*sum_of_squares_of_column\n",
    "\n",
    "        #-----  equation (13) in the article\n",
    "        d = -D_prim_0/D_bis_0 \n",
    "        ### compute lambda = max{1, beta, beta^2, beta^3, ...}\n",
    "        \n",
    "        # we do this to ensure sufficient convergence condition & to make calculations quicker\n",
    "        # Theorem 1 ( from article) indicated that lambda_ (14) fulfilling (15) \n",
    "        \n",
    "        H_i = 1 + 2*C*np.dot(col_.T,col_)\n",
    "        lambda_ = D_bis_0 /((H_i/2)+sigma)\n",
    "        \n",
    "        lambd = 1\n",
    "        while lambd > lambda_:\n",
    "            lambd *= beta\n",
    "            \n",
    "\n",
    "        ds.append(d)\n",
    "        dprim0s.append(D_prim_0)\n",
    "        dbis0s.append(D_bis_0)\n",
    "        weights_sums.append(weights.sum())\n",
    "        \n",
    "        \n",
    "        acc = 0.0\n",
    "        for l in range(Y_test.shape[0]):\n",
    "          if np.dot(weights,X_test[l,:])*Y_test[l] < 0:\n",
    "            acc += 1\n",
    "        accs_inner.append(acc/Y_test.shape[0])\n",
    "        \n",
    "        \n",
    "        \n",
    "        \n",
    "        \n",
    "        # update weights\n",
    "        weights[i] -= lambd*d\n",
    "        \n",
    "    ds2.append(d)\n",
    "    dprim0s2.append(D_prim_0)\n",
    "    dbis0s2.append(D_bis_0)\n",
    "    outer_iteration_times.append(time() - t0)\n",
    "        \n",
    "        \n",
    "    \n",
    "    if k % 10 == 0:\n",
    "#     if True:\n",
    "        print(\"outer iteration - \", k)\n",
    "        acc = 0.0\n",
    "        for i in range(Y_test.shape[0]):\n",
    "          if np.dot(weights,X_test[i,:])*Y_test[i] < 0:\n",
    "            acc += 1\n",
    "        print(\"Accuracy \",acc/Y_test.shape[0])\n",
    "        print(\"Weights sum: \",weights.sum())\n",
    "        print(\"\\n\")\n",
    "        accs.append(acc/Y_test.shape[0])\n",
    "\n"
   ]
  },
  {
   "cell_type": "code",
   "execution_count": 48,
   "id": "42ed0563",
   "metadata": {
    "scrolled": false
   },
   "outputs": [
    {
     "name": "stdout",
     "output_type": "stream",
     "text": [
      "MAX ACCURACY ON TEST DATASET: 0.7903225806451613\n"
     ]
    }
   ],
   "source": [
    "print(\"MAX ACCURACY ON TEST DATASET: \" + str(np.max(accs_inner)))"
   ]
  },
  {
   "cell_type": "code",
   "execution_count": 47,
   "id": "08ba16d5",
   "metadata": {},
   "outputs": [
    {
     "name": "stdout",
     "output_type": "stream",
     "text": [
      "AVERAGE TIME PER OUTER ITERATION: 0.01709 seconds\n"
     ]
    }
   ],
   "source": [
    "print(\"AVERAGE TIME PER OUTER ITERATION: \" + str(round(np.mean(outer_iteration_times), 5)) + \" seconds\")"
   ]
  },
  {
   "cell_type": "code",
   "execution_count": 49,
   "id": "b616686b",
   "metadata": {},
   "outputs": [],
   "source": [
    "inn_it = np.arange(0, len(ds))"
   ]
  },
  {
   "cell_type": "code",
   "execution_count": 127,
   "id": "872a79c6",
   "metadata": {},
   "outputs": [
    {
     "data": {
      "text/plain": [
       "Text(0, 0.5, \"d's value\")"
      ]
     },
     "execution_count": 127,
     "metadata": {},
     "output_type": "execute_result"
    },
    {
     "data": {
      "image/png": "[encoded data removed]",
      "text/plain": [
       "<Figure size 432x288 with 1 Axes>"
      ]
     },
     "metadata": {
      "needs_background": "light"
     },
     "output_type": "display_data"
    }
   ],
   "source": [
    "ax = sns.lineplot(x = inn_it[0:30], y = ds2[0:30])\n",
    "ax.set_title(\"Change of Newton's direction d of last variable in time\")\n",
    "ax.set_xlabel(\"Outer iteration\")\n",
    "ax.set_ylabel(\"d's value\")"
   ]
  },
  {
   "cell_type": "code",
   "execution_count": 129,
   "id": "3491dbbf",
   "metadata": {},
   "outputs": [
    {
     "data": {
      "text/plain": [
       "Text(0, 0.5, \"D''(0) value\")"
      ]
     },
     "execution_count": 129,
     "metadata": {},
     "output_type": "execute_result"
    },
    {
     "data": {
      "image/png": "[encoded data removed]",
      "text/plain": [
       "<Figure size 432x288 with 1 Axes>"
      ]
     },
     "metadata": {
      "needs_background": "light"
     },
     "output_type": "display_data"
    }
   ],
   "source": [
    "ax = sns.lineplot(x = inn_it[0:30], y = dprim0s2[0:30])\n",
    "ax.set_title(\"Change of D''(0) of last variable in time\")\n",
    "ax.set_xlabel(\"Outer iteration\")\n",
    "ax.set_ylabel(\"D''(0) value\")"
   ]
  },
  {
   "cell_type": "code",
   "execution_count": 130,
   "id": "26d03a32",
   "metadata": {},
   "outputs": [
    {
     "data": {
      "text/plain": [
       "Text(0, 0.5, \"Weights' sum\")"
      ]
     },
     "execution_count": 130,
     "metadata": {},
     "output_type": "execute_result"
    },
    {
     "data": {
      "image/png": "[encoded data removed]",
      "text/plain": [
       "<Figure size 432x288 with 1 Axes>"
      ]
     },
     "metadata": {
      "needs_background": "light"
     },
     "output_type": "display_data"
    }
   ],
   "source": [
    "ax = sns.lineplot(x = inn_it[0:30], y = weights_sums[0:30])\n",
    "ax.set_title(\"Change of all weights' sum in time\")\n",
    "ax.set_xlabel(\"Inner iteration\")\n",
    "ax.set_ylabel(\"Weights' sum\")"
   ]
  },
  {
   "cell_type": "code",
   "execution_count": 132,
   "id": "e7242af6",
   "metadata": {},
   "outputs": [
    {
     "name": "stdout",
     "output_type": "stream",
     "text": [
      "LinearSVC Accuracy ( for comparison): 0.7096774193548387\n"
     ]
    },
    {
     "data": {
      "image/png": "[encoded data removed]",
      "text/plain": [
       "<Figure size 432x288 with 1 Axes>"
      ]
     },
     "metadata": {
      "needs_background": "light"
     },
     "output_type": "display_data"
    }
   ],
   "source": [
    "ax = sns.lineplot(x = inn_it[0:30], y = accs_inner[0:30])\n",
    "ax.set_title(\"Change of accuracy on test dataset in time\")\n",
    "ax.set_xlabel(\"Inner iteration\")\n",
    "ax.set_ylabel(\"Accuracy\")\n",
    "\n",
    "print(\"LinearSVC Accuracy ( for comparison): \" + str(svc_acc))"
   ]
  },
  {
   "cell_type": "code",
   "execution_count": 192,
   "id": "66c913c9",
   "metadata": {},
   "outputs": [
    {
     "data": {
      "image/png": "[encoded data removed]",
      "text/plain": [
       "<Figure size 432x288 with 1 Axes>"
      ]
     },
     "metadata": {
      "needs_background": "light"
     },
     "output_type": "display_data"
    }
   ],
   "source": [
    "ax = sns.lineplot(x = inn_it[0:30], y = first_weights[0:30])\n",
    "ax.set_title(\"Change of all features' respective weights in time\")\n",
    "ax.set_xlabel(\"Outer iteration\")\n",
    "ax.set_ylabel(\"Weights' values\")\n",
    "\n",
    "\n",
    "for i in range(1, len(almighty_all_weights)):\n",
    "    sns.lineplot(x = inn_it[0:30], y = almighty_all_weights[i][0:30])"
   ]
  },
  {
   "cell_type": "markdown",
   "id": "0b3e3d0f",
   "metadata": {},
   "source": [
    "# Conclusions\n",
    "\n",
    "Above results showed that implemented algorithm converges for all given datasets, with weights initialization of 100.\n",
    "\n",
    "Respective weights tend to 0 with each outer iteration -- it is due to used regularization term which favorises small absolute value weights over big-value weights.\n",
    "\n",
    "Accuracies obtained on test datasets in comparison with LinearSVC results are as follows:\n",
    "\n",
    "\n",
    "* artificial data: This implementation 0.965, **LinearSVC 0.971**\n",
    "* smoking data: This implementation 0.685, **LinearSVC 0.744**\n",
    "* banknote authentication data: This implementation 0.978, **LinearSVC 0.989**\n",
    "* wisconsin heart data: **This implementation 0.943**, Linear SVC 0.929\n",
    "* heberman data: **This implementation 0.790**, LinarSVC 0.710\n",
    "\n",
    "Bolded results are higher results. As we can see for 2 out of 5 datasets, this project's SVC implementation performed better than LinearSVC. One could deduce that this implementation is competetive with LinearSVC's implementation as far as Accuracy is concerned. Nevertheless, as we can see from outer iteration average time -- it is clear that LinearSVC is better optimized for data in tabular format.\n",
    "\n"
   ]
  },
  {
   "cell_type": "code",
   "execution_count": null,
   "id": "5e089a1b",
   "metadata": {},
   "outputs": [],
   "source": []
  },
  {
   "cell_type": "markdown",
   "id": "LFVkIWyNOEwc",
   "metadata": {
    "id": "LFVkIWyNOEwc"
   },
   "source": [
    "# Other - real-sim from the article, Full loaded data"
   ]
  },
  {
   "cell_type": "code",
   "execution_count": null,
   "id": "9AOMi3lJOGxB",
   "metadata": {
    "id": "9AOMi3lJOGxB"
   },
   "outputs": [],
   "source": [
    "X = np.array(X)\n",
    "Y = np.array(target_df)"
   ]
  },
  {
   "cell_type": "code",
   "execution_count": null,
   "id": "ZlNw_YTlOX3i",
   "metadata": {
    "colab": {
     "base_uri": "https://localhost:8080/"
    },
    "id": "ZlNw_YTlOX3i",
    "outputId": "ba7b5063-8507-4474-f284-eb578f04492a"
   },
   "outputs": [
    {
     "data": {
      "text/plain": [
       "(72309, 20958)"
      ]
     },
     "execution_count": 13,
     "metadata": {},
     "output_type": "execute_result"
    }
   ],
   "source": [
    "X.shape"
   ]
  },
  {
   "cell_type": "code",
   "execution_count": null,
   "id": "NbWRURu1ONQI",
   "metadata": {
    "colab": {
     "base_uri": "https://localhost:8080/",
     "height": 762
    },
    "id": "NbWRURu1ONQI",
    "outputId": "463563d8-040b-4c85-87bc-7086c500eae7"
   },
   "outputs": [
    {
     "name": "stdout",
     "output_type": "stream",
     "text": [
      "Std is Zero\n",
      "0\n",
      "Std is Zero\n",
      "9646\n",
      "Std is Zero\n",
      "10252\n",
      "Std is Zero\n",
      "10597\n",
      "Std is Zero\n",
      "10618\n",
      "Std is Zero\n",
      "11565\n",
      "Std is Zero\n",
      "12211\n",
      "Std is Zero\n",
      "12241\n",
      "Std is Zero\n",
      "12263\n",
      "Std is Zero\n",
      "12279\n",
      "Std is Zero\n",
      "12948\n",
      "Std is Zero\n",
      "14052\n",
      "Std is Zero\n",
      "14617\n",
      "Std is Zero\n",
      "15313\n"
     ]
    },
    {
     "ename": "IndexError",
     "evalue": "ignored",
     "output_type": "error",
     "traceback": [
      "\u001b[0;31m---------------------------------------------------------------------------\u001b[0m",
      "\u001b[0;31mIndexError\u001b[0m                                Traceback (most recent call last)",
      "\u001b[0;32m<ipython-input-14-cc99b324cb46>\u001b[0m in \u001b[0;36m<module>\u001b[0;34m()\u001b[0m\n\u001b[1;32m      1\u001b[0m \u001b[0;32mfor\u001b[0m \u001b[0mi\u001b[0m \u001b[0;32min\u001b[0m \u001b[0mrange\u001b[0m\u001b[0;34m(\u001b[0m\u001b[0;36m72309\u001b[0m\u001b[0;34m-\u001b[0m\u001b[0;36m1\u001b[0m\u001b[0;34m)\u001b[0m\u001b[0;34m:\u001b[0m\u001b[0;34m\u001b[0m\u001b[0;34m\u001b[0m\u001b[0m\n\u001b[0;32m----> 2\u001b[0;31m   \u001b[0mmean\u001b[0m \u001b[0;34m=\u001b[0m \u001b[0mX\u001b[0m\u001b[0;34m[\u001b[0m\u001b[0;34m:\u001b[0m\u001b[0;34m,\u001b[0m\u001b[0mi\u001b[0m\u001b[0;34m]\u001b[0m\u001b[0;34m.\u001b[0m\u001b[0mmean\u001b[0m\u001b[0;34m(\u001b[0m\u001b[0;34m)\u001b[0m\u001b[0;34m\u001b[0m\u001b[0;34m\u001b[0m\u001b[0m\n\u001b[0m\u001b[1;32m      3\u001b[0m   \u001b[0mstd\u001b[0m \u001b[0;34m=\u001b[0m \u001b[0mX\u001b[0m\u001b[0;34m[\u001b[0m\u001b[0;34m:\u001b[0m\u001b[0;34m,\u001b[0m\u001b[0mi\u001b[0m\u001b[0;34m]\u001b[0m\u001b[0;34m.\u001b[0m\u001b[0mstd\u001b[0m\u001b[0;34m(\u001b[0m\u001b[0;34m)\u001b[0m\u001b[0;34m\u001b[0m\u001b[0;34m\u001b[0m\u001b[0m\n\u001b[1;32m      4\u001b[0m   \u001b[0;32mif\u001b[0m \u001b[0mstd\u001b[0m \u001b[0;34m==\u001b[0m \u001b[0;36m0\u001b[0m\u001b[0;34m:\u001b[0m \u001b[0;31m#If column of zeros\u001b[0m\u001b[0;34m\u001b[0m\u001b[0;34m\u001b[0m\u001b[0m\n\u001b[1;32m      5\u001b[0m     \u001b[0mstd\u001b[0m \u001b[0;34m=\u001b[0m \u001b[0;36m1\u001b[0m\u001b[0;34m\u001b[0m\u001b[0;34m\u001b[0m\u001b[0m\n",
      "\u001b[0;31mIndexError\u001b[0m: index 20958 is out of bounds for axis 1 with size 20958"
     ]
    }
   ],
   "source": [
    "for i in range(20958-1):\n",
    "  mean = X[:,i].mean()\n",
    "  std = X[:,i].std()\n",
    "  if std == 0: #If column of zeros\n",
    "    std = 1\n",
    "    print(\"Std is Zero, ID:\", i)\n",
    "    \n",
    "  X[:,i] = (X[:,i] - mean)/std"
   ]
  },
  {
   "cell_type": "code",
   "execution_count": null,
   "id": "vnhO4ExdOHMC",
   "metadata": {
    "colab": {
     "base_uri": "https://localhost:8080/",
     "height": 393
    },
    "id": "vnhO4ExdOHMC",
    "outputId": "7205e930-5b48-4a54-df74-c6272927de39"
   },
   "outputs": [
    {
     "name": "stdout",
     "output_type": "stream",
     "text": [
      "feature  0\n",
      "Execution time in seconds: 14.164132833480835\n",
      "Execution time in seconds: 10.2814302444458\n",
      "Execution time in seconds: 10.202035665512085\n",
      "Execution time in seconds: 10.176557779312134\n",
      "Execution time in seconds: 10.259861707687378\n"
     ]
    },
    {
     "ename": "KeyboardInterrupt",
     "evalue": "ignored",
     "output_type": "error",
     "traceback": [
      "\u001b[0;31m---------------------------------------------------------------------------\u001b[0m",
      "\u001b[0;31mKeyboardInterrupt\u001b[0m                         Traceback (most recent call last)",
      "\u001b[0;32m<ipython-input-22-01f410edcb1c>\u001b[0m in \u001b[0;36m<module>\u001b[0;34m()\u001b[0m\n\u001b[1;32m     42\u001b[0m         \u001b[0;32mfor\u001b[0m \u001b[0mj\u001b[0m \u001b[0;32min\u001b[0m \u001b[0mrange\u001b[0m\u001b[0;34m(\u001b[0m\u001b[0mn_of_observations\u001b[0m\u001b[0;34m)\u001b[0m\u001b[0;34m:\u001b[0m\u001b[0;34m\u001b[0m\u001b[0;34m\u001b[0m\u001b[0m\n\u001b[1;32m     43\u001b[0m \u001b[0;34m\u001b[0m\u001b[0m\n\u001b[0;32m---> 44\u001b[0;31m             \u001b[0mb_j\u001b[0m \u001b[0;34m=\u001b[0m \u001b[0mmax\u001b[0m\u001b[0;34m(\u001b[0m\u001b[0mY_\u001b[0m\u001b[0;34m[\u001b[0m\u001b[0mj\u001b[0m\u001b[0;34m]\u001b[0m\u001b[0;34m*\u001b[0m\u001b[0mfloat\u001b[0m\u001b[0;34m(\u001b[0m\u001b[0mnp\u001b[0m\u001b[0;34m.\u001b[0m\u001b[0mdot\u001b[0m\u001b[0;34m(\u001b[0m\u001b[0mweights\u001b[0m\u001b[0;34m,\u001b[0m\u001b[0mX\u001b[0m\u001b[0;34m[\u001b[0m\u001b[0mj\u001b[0m\u001b[0;34m,\u001b[0m\u001b[0;34m:\u001b[0m\u001b[0;34m]\u001b[0m\u001b[0;34m)\u001b[0m\u001b[0;34m)\u001b[0m\u001b[0;34m,\u001b[0m\u001b[0;36m0\u001b[0m\u001b[0;34m)\u001b[0m\u001b[0;34m\u001b[0m\u001b[0;34m\u001b[0m\u001b[0m\n\u001b[0m\u001b[1;32m     45\u001b[0m             \u001b[0;31m#print(float(np.dot(weights,index2Row(df,j))),b_j)\u001b[0m\u001b[0;34m\u001b[0m\u001b[0;34m\u001b[0m\u001b[0;34m\u001b[0m\u001b[0m\n\u001b[1;32m     46\u001b[0m             \u001b[0;32mif\u001b[0m \u001b[0mb_j\u001b[0m \u001b[0;34m>\u001b[0m \u001b[0;36m0.0\u001b[0m\u001b[0;34m:\u001b[0m\u001b[0;34m\u001b[0m\u001b[0;34m\u001b[0m\u001b[0m\n",
      "\u001b[0;32m<__array_function__ internals>\u001b[0m in \u001b[0;36mdot\u001b[0;34m(*args, **kwargs)\u001b[0m\n",
      "\u001b[0;31mKeyboardInterrupt\u001b[0m: "
     ]
    }
   ],
   "source": [
    "# algorithm described in https://jmlr.org/papers/volume9/chang08a/chang08a.pdf\n",
    "\n",
    "\n",
    "n_of_features = X.shape[1]\n",
    "n_of_observations = Y.shape[0]\n",
    "\n",
    "\n",
    "# initial weights\n",
    "\n",
    "#weights = np.ones(shape = (1,n_of_features) ) * 0.01 # initial weights of predictors\n",
    "weights = np.ones((n_of_features)) * 0.01\n",
    "\n",
    "# hyperparameters\n",
    "beta = 0.5\n",
    "sigma = 0.01\n",
    "C = 0.01\n",
    "\n",
    "# outer iterations:\n",
    "for k in range(4):\n",
    "    # inner iterations shuld be as many as the number of features\n",
    "    for i in range(n_of_features):\n",
    "        startTime = time.time()\n",
    "      \n",
    "        if(i%100==0):\n",
    "          print(\"feature \" , i)\n",
    "        shuffle = np.random.choice(n_of_observations, n_of_observations, replace = False) # shuffling recommended by authors\n",
    "        col = X[:,i] #index2Col(X, i)\n",
    "        \n",
    "        # reorder randomly column of X and target (Y):\n",
    "        col_ = col[shuffle]\n",
    "        Y_ = Y[shuffle] #np.array(Y.iloc[shuffle])\n",
    "        \n",
    "        \n",
    "        # solving the sub-problem and update weight_i\n",
    "        \n",
    "        ### calculating Newton direction d\n",
    "        \n",
    "        D_prim_0 = 0\n",
    "        \n",
    "        sum_of_squares_of_column = 0\n",
    "        \n",
    "        for j in range(n_of_observations): \n",
    "\n",
    "            b_j = max(Y_[j]*float(np.dot(weights,X[j,:])),0)\n",
    "            #print(float(np.dot(weights,index2Row(df,j))),b_j)\n",
    "            if b_j > 0.0:\n",
    "                D_prim_0 += Y_[j]*col_[j]*b_j\n",
    "                sum_of_squares_of_column += col_[j]**2\n",
    "            \n",
    "            \n",
    "        D_prim_0 *= (-2*C)\n",
    "        #D_prim_0 += weights[0,i]\n",
    "        D_prim_0 += weights[i]\n",
    "                \n",
    "        D_bis_0 = 1 + 2*C*sum_of_squares_of_column\n",
    "        d = -D_prim_0/D_bis_0\n",
    "        \n",
    "        ### compute lambda = max{1, beta, beta^2, beta^3, ...}\n",
    "        \n",
    "        # we do this to ensure sufficient convergence condition & to make calculations quicker\n",
    "        \n",
    "        H_i = 1 + 2*C*np.dot(col_.T,col_)\n",
    "        lambda_ = D_bis_0 /((H_i/2)+sigma)\n",
    "        \n",
    "        lambd = 1\n",
    "        while lambd > lambda_:\n",
    "            lambd *= beta\n",
    "            \n",
    "        # update weights\n",
    "        weights[i] += lambd*d\n",
    "        executionTime = (time.time() - startTime)\n",
    "        print('Execution time in seconds: ' + str(executionTime))\n",
    "    print(\"outer iteration - \", k)\n",
    "    acc = 0.0\n",
    "    for i in range(d_d):\n",
    "      if np.dot(weights,X[i,:])*Y[i] > 0:\n",
    "        acc += 1\n",
    "    print(acc/d_d)\n",
    "\n",
    "\n",
    "\n"
   ]
  }
 ],
 "metadata": {
  "colab": {
   "collapsed_sections": [
    "36722bbf"
   ],
   "name": "c2-notebook.ipynb",
   "provenance": []
  },
  "kernelspec": {
   "display_name": "Python 3 (ipykernel)",
   "language": "python",
   "name": "python3"
  },
  "language_info": {
   "codemirror_mode": {
    "name": "ipython",
    "version": 3
   },
   "file_extension": ".py",
   "mimetype": "text/x-python",
   "name": "python",
   "nbconvert_exporter": "python",
   "pygments_lexer": "ipython3",
   "version": "3.9.7"
  }
 },
 "nbformat": 4,
 "nbformat_minor": 5
}
